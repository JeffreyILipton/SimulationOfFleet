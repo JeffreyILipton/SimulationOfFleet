{
 "cells": [
  {
   "cell_type": "code",
   "execution_count": 5,
   "metadata": {
    "collapsed": true
   },
   "outputs": [],
   "source": [
    "import numpy as np\n",
    "from functools import *\n",
    "from itertools import *\n",
    "from operator import *\n",
    "from random import *\n",
    "from multiprocessing import Pool\n",
    "from defs import *\n",
    "import csv\n",
    "\n",
    "import scipy\n",
    "from scipy import special\n",
    "import math"
   ]
  },
  {
   "cell_type": "markdown",
   "metadata": {},
   "source": [
    "http://robotics.sciencemag.org/\n",
    "    \n",
    "http://www.sciencemag.org/journals/robotics/call-for-papers\n",
    "\n",
    "http://www.sciencemag.org/information-authors-2?_ga=2.235092801.1913050079.1534704804-5095294.1518029753\n"
   ]
  },
  {
   "cell_type": "markdown",
   "metadata": {},
   "source": [
    "https://stackoverflow.com/questions/20548628/how-to-do-parallel-programming-in-python\n",
    "\n",
    "https://github.com/ResearchComputing/jupyter-at-rc/wiki/Parallel-Programming-with-Jupyter-Notebooks\n",
    "\n",
    "https://stackoverflow.com/questions/47313732/jupyter-notebook-never-finishes-processing-using-multiprocessing-python-3/47374811#47374811"
   ]
  },
  {
   "cell_type": "markdown",
   "metadata": {},
   "source": [
    "https://www.wikiwand.com/en/Cumulative_distribution_function\n",
    "\n",
    "https://docs.scipy.org/doc/scipy-0.14.0/reference/generated/scipy.special.erf.html\n"
   ]
  },
  {
   "cell_type": "code",
   "execution_count": 6,
   "metadata": {
    "collapsed": true
   },
   "outputs": [],
   "source": [
    "def Phi(z):\n",
    "    return 1/2*(1 + special.erf(z/math.sqrt(2)))"
   ]
  },
  {
   "cell_type": "code",
   "execution_count": 7,
   "metadata": {},
   "outputs": [
    {
     "name": "stdout",
     "output_type": "stream",
     "text": [
      "[0.0, 0.5, 1.0, 1.5, 2.0, 2.25, 2.5, 3.0]\n",
      "[0.5, 0.69146246127401301, 0.84134474606854293, 0.93319279873114191, 0.97724986805182079, 0.98777552734495533, 0.99379033467422384, 0.9986501019683699]\n"
     ]
    }
   ],
   "source": [
    "#y= [x/2.0 for x in range(0,7)]\n",
    "y = [0.0, 0.5, 1.0, 1.5, 2.0, 2.25, 2.5, 3.0]\n",
    "print(y)\n",
    "z = [Phi(x) for x in y]\n",
    "print(z)"
   ]
  },
  {
   "cell_type": "code",
   "execution_count": 8,
   "metadata": {
    "collapsed": true
   },
   "outputs": [],
   "source": [
    "def getPoint(n_robots=3,p_robot=0.95,n_humans=1,p_human=0.95,n_runs=10):\n",
    "    time = 30*24*60*60\n",
    "    pool=Pool(10)\n",
    "    fun = partial(simulate,time,n_robots,n_humans,p_robot,p_human)\n",
    "    ans = pool.map(fun,[time]*n_runs)\n",
    "    x = np.array(ans)\n",
    "    #print(x)\n",
    "    y = np.array([[np.mean(x[:,0]), np.std(x[:,0])],[np.mean(x[:,1]), np.std(x[:,1])],[np.mean(x[:,2]), np.std(x[:,2])],[np.mean(x[:,3]), np.std(x[:,3])]])\n",
    "    return y"
   ]
  },
  {
   "cell_type": "code",
   "execution_count": null,
   "metadata": {},
   "outputs": [],
   "source": [
    "\n",
    "i=0\n",
    "start_on=0\n",
    "run=1\n",
    "with open(f'CDF{run}.csv',mode='w',newline='') as csv_file:\n",
    "    fieldnames = ['n_humans','n_robots','p_robot','mean Human Down',' stdev human down','mean robot Down',' stdev robot down','Success rate','stdev successrate','n_total','stdev n_total']\n",
    "    writer = csv.writer(csv_file,delimiter=',')\n",
    "    writer.writerow(fieldnames)\n",
    "    #n_humans = 1\n",
    "    #n_robots = 1#3\n",
    "    #p_robot  = 0.6\n",
    "    ns_of_robots = range(1,25)\n",
    "    ns_of_humans = [1]#range(1,4)\n",
    "        #[0.6,1   ,1.2,1.6,1.96,2.58,3    ,4]\n",
    "    ps = z#[0.5,0.68,0.8,0.9,0.95,0.99,0.997,0.99994]\n",
    "    \n",
    "    to_run = len(ns_of_robots)*len(ns_of_humans)*len(ps) \n",
    "    \n",
    "    for n_robots in ns_of_robots:\n",
    "        for n_humans in ns_of_humans:\n",
    "            for p_robot in ps:\n",
    "                i+=1\n",
    "                if i>=start_on:\n",
    "                    data = getPoint(n_robots, p_robot,n_humans, n_runs = 10)\n",
    "                    row = [n_humans,n_robots,p_robot,data[0,0],data[0,1],data[1,0],data[1,1],data[2,0],data[2,1],data[3,0],data[3,1]]\n",
    "                    writer.writerow(row)\n",
    "                    p = float(i/to_run)\n",
    "                    print(f'{i}:'+\"{0:.2f}\".format(p)+f'\\tNum Humans: {n_humans}\\tNum Robots:{n_robots}\\tp_robot:{p_robot}')\n",
    "\n",
    "    "
   ]
  },
  {
   "cell_type": "code",
   "execution_count": 9,
   "metadata": {},
   "outputs": [
    {
     "name": "stdout",
     "output_type": "stream",
     "text": [
      "[0.0, 0.5, 1.0, 1.25, 1.5, 1.75, 2.0, 2.25, 2.5, 3.0]\n",
      "[0.5, 0.69146246127401301, 0.84134474606854293, 0.89435022633314465, 0.93319279873114191, 0.95994084313618289, 0.97724986805182079, 0.98777552734495533, 0.99379033467422384, 0.9986501019683699]\n",
      "1:0.00\tNum Humans: 1\tNum Robots:25\tp_robot:0.5\n",
      "2:0.01\tNum Humans: 1\tNum Robots:25\tp_robot:0.691462461274013\n",
      "3:0.01\tNum Humans: 1\tNum Robots:25\tp_robot:0.8413447460685429\n",
      "4:0.02\tNum Humans: 1\tNum Robots:25\tp_robot:0.8943502263331446\n",
      "5:0.02\tNum Humans: 1\tNum Robots:25\tp_robot:0.9331927987311419\n",
      "6:0.02\tNum Humans: 1\tNum Robots:25\tp_robot:0.9599408431361829\n",
      "7:0.03\tNum Humans: 1\tNum Robots:25\tp_robot:0.9772498680518208\n",
      "8:0.03\tNum Humans: 1\tNum Robots:25\tp_robot:0.9877755273449553\n",
      "9:0.04\tNum Humans: 1\tNum Robots:25\tp_robot:0.9937903346742238\n",
      "10:0.04\tNum Humans: 1\tNum Robots:25\tp_robot:0.9986501019683699\n",
      "11:0.04\tNum Humans: 1\tNum Robots:26\tp_robot:0.5\n",
      "12:0.05\tNum Humans: 1\tNum Robots:26\tp_robot:0.691462461274013\n",
      "13:0.05\tNum Humans: 1\tNum Robots:26\tp_robot:0.8413447460685429\n",
      "14:0.06\tNum Humans: 1\tNum Robots:26\tp_robot:0.8943502263331446\n",
      "15:0.06\tNum Humans: 1\tNum Robots:26\tp_robot:0.9331927987311419\n",
      "16:0.06\tNum Humans: 1\tNum Robots:26\tp_robot:0.9599408431361829\n",
      "17:0.07\tNum Humans: 1\tNum Robots:26\tp_robot:0.9772498680518208\n",
      "18:0.07\tNum Humans: 1\tNum Robots:26\tp_robot:0.9877755273449553\n",
      "19:0.08\tNum Humans: 1\tNum Robots:26\tp_robot:0.9937903346742238\n",
      "20:0.08\tNum Humans: 1\tNum Robots:26\tp_robot:0.9986501019683699\n",
      "21:0.08\tNum Humans: 1\tNum Robots:27\tp_robot:0.5\n",
      "22:0.09\tNum Humans: 1\tNum Robots:27\tp_robot:0.691462461274013\n",
      "23:0.09\tNum Humans: 1\tNum Robots:27\tp_robot:0.8413447460685429\n",
      "24:0.10\tNum Humans: 1\tNum Robots:27\tp_robot:0.8943502263331446\n",
      "25:0.10\tNum Humans: 1\tNum Robots:27\tp_robot:0.9331927987311419\n",
      "26:0.10\tNum Humans: 1\tNum Robots:27\tp_robot:0.9599408431361829\n",
      "27:0.11\tNum Humans: 1\tNum Robots:27\tp_robot:0.9772498680518208\n",
      "28:0.11\tNum Humans: 1\tNum Robots:27\tp_robot:0.9877755273449553\n",
      "29:0.12\tNum Humans: 1\tNum Robots:27\tp_robot:0.9937903346742238\n",
      "30:0.12\tNum Humans: 1\tNum Robots:27\tp_robot:0.9986501019683699\n",
      "31:0.12\tNum Humans: 1\tNum Robots:28\tp_robot:0.5\n",
      "32:0.13\tNum Humans: 1\tNum Robots:28\tp_robot:0.691462461274013\n",
      "33:0.13\tNum Humans: 1\tNum Robots:28\tp_robot:0.8413447460685429\n",
      "34:0.14\tNum Humans: 1\tNum Robots:28\tp_robot:0.8943502263331446\n",
      "35:0.14\tNum Humans: 1\tNum Robots:28\tp_robot:0.9331927987311419\n",
      "36:0.14\tNum Humans: 1\tNum Robots:28\tp_robot:0.9599408431361829\n",
      "37:0.15\tNum Humans: 1\tNum Robots:28\tp_robot:0.9772498680518208\n",
      "38:0.15\tNum Humans: 1\tNum Robots:28\tp_robot:0.9877755273449553\n",
      "39:0.16\tNum Humans: 1\tNum Robots:28\tp_robot:0.9937903346742238\n",
      "40:0.16\tNum Humans: 1\tNum Robots:28\tp_robot:0.9986501019683699\n",
      "41:0.16\tNum Humans: 1\tNum Robots:29\tp_robot:0.5\n",
      "42:0.17\tNum Humans: 1\tNum Robots:29\tp_robot:0.691462461274013\n",
      "43:0.17\tNum Humans: 1\tNum Robots:29\tp_robot:0.8413447460685429\n",
      "44:0.18\tNum Humans: 1\tNum Robots:29\tp_robot:0.8943502263331446\n",
      "45:0.18\tNum Humans: 1\tNum Robots:29\tp_robot:0.9331927987311419\n",
      "46:0.18\tNum Humans: 1\tNum Robots:29\tp_robot:0.9599408431361829\n",
      "47:0.19\tNum Humans: 1\tNum Robots:29\tp_robot:0.9772498680518208\n",
      "48:0.19\tNum Humans: 1\tNum Robots:29\tp_robot:0.9877755273449553\n",
      "49:0.20\tNum Humans: 1\tNum Robots:29\tp_robot:0.9937903346742238\n",
      "50:0.20\tNum Humans: 1\tNum Robots:29\tp_robot:0.9986501019683699\n",
      "51:0.20\tNum Humans: 1\tNum Robots:30\tp_robot:0.5\n",
      "52:0.21\tNum Humans: 1\tNum Robots:30\tp_robot:0.691462461274013\n",
      "53:0.21\tNum Humans: 1\tNum Robots:30\tp_robot:0.8413447460685429\n",
      "54:0.22\tNum Humans: 1\tNum Robots:30\tp_robot:0.8943502263331446\n",
      "55:0.22\tNum Humans: 1\tNum Robots:30\tp_robot:0.9331927987311419\n",
      "56:0.22\tNum Humans: 1\tNum Robots:30\tp_robot:0.9599408431361829\n",
      "57:0.23\tNum Humans: 1\tNum Robots:30\tp_robot:0.9772498680518208\n",
      "58:0.23\tNum Humans: 1\tNum Robots:30\tp_robot:0.9877755273449553\n",
      "59:0.24\tNum Humans: 1\tNum Robots:30\tp_robot:0.9937903346742238\n",
      "60:0.24\tNum Humans: 1\tNum Robots:30\tp_robot:0.9986501019683699\n",
      "61:0.24\tNum Humans: 1\tNum Robots:31\tp_robot:0.5\n",
      "62:0.25\tNum Humans: 1\tNum Robots:31\tp_robot:0.691462461274013\n",
      "63:0.25\tNum Humans: 1\tNum Robots:31\tp_robot:0.8413447460685429\n",
      "64:0.26\tNum Humans: 1\tNum Robots:31\tp_robot:0.8943502263331446\n",
      "65:0.26\tNum Humans: 1\tNum Robots:31\tp_robot:0.9331927987311419\n",
      "66:0.26\tNum Humans: 1\tNum Robots:31\tp_robot:0.9599408431361829\n",
      "67:0.27\tNum Humans: 1\tNum Robots:31\tp_robot:0.9772498680518208\n",
      "68:0.27\tNum Humans: 1\tNum Robots:31\tp_robot:0.9877755273449553\n",
      "69:0.28\tNum Humans: 1\tNum Robots:31\tp_robot:0.9937903346742238\n",
      "70:0.28\tNum Humans: 1\tNum Robots:31\tp_robot:0.9986501019683699\n",
      "71:0.28\tNum Humans: 1\tNum Robots:32\tp_robot:0.5\n",
      "72:0.29\tNum Humans: 1\tNum Robots:32\tp_robot:0.691462461274013\n",
      "73:0.29\tNum Humans: 1\tNum Robots:32\tp_robot:0.8413447460685429\n",
      "74:0.30\tNum Humans: 1\tNum Robots:32\tp_robot:0.8943502263331446\n",
      "75:0.30\tNum Humans: 1\tNum Robots:32\tp_robot:0.9331927987311419\n",
      "76:0.30\tNum Humans: 1\tNum Robots:32\tp_robot:0.9599408431361829\n",
      "77:0.31\tNum Humans: 1\tNum Robots:32\tp_robot:0.9772498680518208\n",
      "78:0.31\tNum Humans: 1\tNum Robots:32\tp_robot:0.9877755273449553\n",
      "79:0.32\tNum Humans: 1\tNum Robots:32\tp_robot:0.9937903346742238\n",
      "80:0.32\tNum Humans: 1\tNum Robots:32\tp_robot:0.9986501019683699\n",
      "81:0.32\tNum Humans: 1\tNum Robots:33\tp_robot:0.5\n",
      "82:0.33\tNum Humans: 1\tNum Robots:33\tp_robot:0.691462461274013\n",
      "83:0.33\tNum Humans: 1\tNum Robots:33\tp_robot:0.8413447460685429\n",
      "84:0.34\tNum Humans: 1\tNum Robots:33\tp_robot:0.8943502263331446\n",
      "85:0.34\tNum Humans: 1\tNum Robots:33\tp_robot:0.9331927987311419\n",
      "86:0.34\tNum Humans: 1\tNum Robots:33\tp_robot:0.9599408431361829\n",
      "87:0.35\tNum Humans: 1\tNum Robots:33\tp_robot:0.9772498680518208\n",
      "88:0.35\tNum Humans: 1\tNum Robots:33\tp_robot:0.9877755273449553\n",
      "89:0.36\tNum Humans: 1\tNum Robots:33\tp_robot:0.9937903346742238\n",
      "90:0.36\tNum Humans: 1\tNum Robots:33\tp_robot:0.9986501019683699\n",
      "91:0.36\tNum Humans: 1\tNum Robots:34\tp_robot:0.5\n",
      "92:0.37\tNum Humans: 1\tNum Robots:34\tp_robot:0.691462461274013\n",
      "93:0.37\tNum Humans: 1\tNum Robots:34\tp_robot:0.8413447460685429\n",
      "94:0.38\tNum Humans: 1\tNum Robots:34\tp_robot:0.8943502263331446\n",
      "95:0.38\tNum Humans: 1\tNum Robots:34\tp_robot:0.9331927987311419\n",
      "96:0.38\tNum Humans: 1\tNum Robots:34\tp_robot:0.9599408431361829\n",
      "97:0.39\tNum Humans: 1\tNum Robots:34\tp_robot:0.9772498680518208\n",
      "98:0.39\tNum Humans: 1\tNum Robots:34\tp_robot:0.9877755273449553\n",
      "99:0.40\tNum Humans: 1\tNum Robots:34\tp_robot:0.9937903346742238\n",
      "100:0.40\tNum Humans: 1\tNum Robots:34\tp_robot:0.9986501019683699\n",
      "101:0.40\tNum Humans: 1\tNum Robots:35\tp_robot:0.5\n",
      "102:0.41\tNum Humans: 1\tNum Robots:35\tp_robot:0.691462461274013\n",
      "103:0.41\tNum Humans: 1\tNum Robots:35\tp_robot:0.8413447460685429\n",
      "104:0.42\tNum Humans: 1\tNum Robots:35\tp_robot:0.8943502263331446\n",
      "105:0.42\tNum Humans: 1\tNum Robots:35\tp_robot:0.9331927987311419\n",
      "106:0.42\tNum Humans: 1\tNum Robots:35\tp_robot:0.9599408431361829\n",
      "107:0.43\tNum Humans: 1\tNum Robots:35\tp_robot:0.9772498680518208\n",
      "108:0.43\tNum Humans: 1\tNum Robots:35\tp_robot:0.9877755273449553\n",
      "109:0.44\tNum Humans: 1\tNum Robots:35\tp_robot:0.9937903346742238\n",
      "110:0.44\tNum Humans: 1\tNum Robots:35\tp_robot:0.9986501019683699\n",
      "111:0.44\tNum Humans: 1\tNum Robots:36\tp_robot:0.5\n",
      "112:0.45\tNum Humans: 1\tNum Robots:36\tp_robot:0.691462461274013\n",
      "113:0.45\tNum Humans: 1\tNum Robots:36\tp_robot:0.8413447460685429\n",
      "114:0.46\tNum Humans: 1\tNum Robots:36\tp_robot:0.8943502263331446\n",
      "115:0.46\tNum Humans: 1\tNum Robots:36\tp_robot:0.9331927987311419\n",
      "116:0.46\tNum Humans: 1\tNum Robots:36\tp_robot:0.9599408431361829\n",
      "117:0.47\tNum Humans: 1\tNum Robots:36\tp_robot:0.9772498680518208\n",
      "118:0.47\tNum Humans: 1\tNum Robots:36\tp_robot:0.9877755273449553\n",
      "119:0.48\tNum Humans: 1\tNum Robots:36\tp_robot:0.9937903346742238\n",
      "120:0.48\tNum Humans: 1\tNum Robots:36\tp_robot:0.9986501019683699\n",
      "121:0.48\tNum Humans: 1\tNum Robots:37\tp_robot:0.5\n",
      "122:0.49\tNum Humans: 1\tNum Robots:37\tp_robot:0.691462461274013\n",
      "123:0.49\tNum Humans: 1\tNum Robots:37\tp_robot:0.8413447460685429\n",
      "124:0.50\tNum Humans: 1\tNum Robots:37\tp_robot:0.8943502263331446\n",
      "125:0.50\tNum Humans: 1\tNum Robots:37\tp_robot:0.9331927987311419\n",
      "126:0.50\tNum Humans: 1\tNum Robots:37\tp_robot:0.9599408431361829\n",
      "127:0.51\tNum Humans: 1\tNum Robots:37\tp_robot:0.9772498680518208\n",
      "128:0.51\tNum Humans: 1\tNum Robots:37\tp_robot:0.9877755273449553\n",
      "129:0.52\tNum Humans: 1\tNum Robots:37\tp_robot:0.9937903346742238\n",
      "130:0.52\tNum Humans: 1\tNum Robots:37\tp_robot:0.9986501019683699\n"
     ]
    },
    {
     "name": "stdout",
     "output_type": "stream",
     "text": [
      "131:0.52\tNum Humans: 1\tNum Robots:38\tp_robot:0.5\n",
      "132:0.53\tNum Humans: 1\tNum Robots:38\tp_robot:0.691462461274013\n",
      "133:0.53\tNum Humans: 1\tNum Robots:38\tp_robot:0.8413447460685429\n",
      "134:0.54\tNum Humans: 1\tNum Robots:38\tp_robot:0.8943502263331446\n",
      "135:0.54\tNum Humans: 1\tNum Robots:38\tp_robot:0.9331927987311419\n",
      "136:0.54\tNum Humans: 1\tNum Robots:38\tp_robot:0.9599408431361829\n",
      "137:0.55\tNum Humans: 1\tNum Robots:38\tp_robot:0.9772498680518208\n",
      "138:0.55\tNum Humans: 1\tNum Robots:38\tp_robot:0.9877755273449553\n",
      "139:0.56\tNum Humans: 1\tNum Robots:38\tp_robot:0.9937903346742238\n",
      "140:0.56\tNum Humans: 1\tNum Robots:38\tp_robot:0.9986501019683699\n",
      "141:0.56\tNum Humans: 1\tNum Robots:39\tp_robot:0.5\n",
      "142:0.57\tNum Humans: 1\tNum Robots:39\tp_robot:0.691462461274013\n",
      "143:0.57\tNum Humans: 1\tNum Robots:39\tp_robot:0.8413447460685429\n",
      "144:0.58\tNum Humans: 1\tNum Robots:39\tp_robot:0.8943502263331446\n",
      "145:0.58\tNum Humans: 1\tNum Robots:39\tp_robot:0.9331927987311419\n",
      "146:0.58\tNum Humans: 1\tNum Robots:39\tp_robot:0.9599408431361829\n",
      "147:0.59\tNum Humans: 1\tNum Robots:39\tp_robot:0.9772498680518208\n",
      "148:0.59\tNum Humans: 1\tNum Robots:39\tp_robot:0.9877755273449553\n",
      "149:0.60\tNum Humans: 1\tNum Robots:39\tp_robot:0.9937903346742238\n",
      "150:0.60\tNum Humans: 1\tNum Robots:39\tp_robot:0.9986501019683699\n",
      "151:0.60\tNum Humans: 1\tNum Robots:40\tp_robot:0.5\n",
      "152:0.61\tNum Humans: 1\tNum Robots:40\tp_robot:0.691462461274013\n",
      "153:0.61\tNum Humans: 1\tNum Robots:40\tp_robot:0.8413447460685429\n",
      "154:0.62\tNum Humans: 1\tNum Robots:40\tp_robot:0.8943502263331446\n",
      "155:0.62\tNum Humans: 1\tNum Robots:40\tp_robot:0.9331927987311419\n",
      "156:0.62\tNum Humans: 1\tNum Robots:40\tp_robot:0.9599408431361829\n",
      "157:0.63\tNum Humans: 1\tNum Robots:40\tp_robot:0.9772498680518208\n",
      "158:0.63\tNum Humans: 1\tNum Robots:40\tp_robot:0.9877755273449553\n",
      "159:0.64\tNum Humans: 1\tNum Robots:40\tp_robot:0.9937903346742238\n",
      "160:0.64\tNum Humans: 1\tNum Robots:40\tp_robot:0.9986501019683699\n",
      "161:0.64\tNum Humans: 1\tNum Robots:41\tp_robot:0.5\n",
      "162:0.65\tNum Humans: 1\tNum Robots:41\tp_robot:0.691462461274013\n",
      "163:0.65\tNum Humans: 1\tNum Robots:41\tp_robot:0.8413447460685429\n",
      "164:0.66\tNum Humans: 1\tNum Robots:41\tp_robot:0.8943502263331446\n",
      "165:0.66\tNum Humans: 1\tNum Robots:41\tp_robot:0.9331927987311419\n",
      "166:0.66\tNum Humans: 1\tNum Robots:41\tp_robot:0.9599408431361829\n",
      "167:0.67\tNum Humans: 1\tNum Robots:41\tp_robot:0.9772498680518208\n",
      "168:0.67\tNum Humans: 1\tNum Robots:41\tp_robot:0.9877755273449553\n",
      "169:0.68\tNum Humans: 1\tNum Robots:41\tp_robot:0.9937903346742238\n",
      "170:0.68\tNum Humans: 1\tNum Robots:41\tp_robot:0.9986501019683699\n",
      "171:0.68\tNum Humans: 1\tNum Robots:42\tp_robot:0.5\n",
      "172:0.69\tNum Humans: 1\tNum Robots:42\tp_robot:0.691462461274013\n",
      "173:0.69\tNum Humans: 1\tNum Robots:42\tp_robot:0.8413447460685429\n",
      "174:0.70\tNum Humans: 1\tNum Robots:42\tp_robot:0.8943502263331446\n",
      "175:0.70\tNum Humans: 1\tNum Robots:42\tp_robot:0.9331927987311419\n",
      "176:0.70\tNum Humans: 1\tNum Robots:42\tp_robot:0.9599408431361829\n",
      "177:0.71\tNum Humans: 1\tNum Robots:42\tp_robot:0.9772498680518208\n",
      "178:0.71\tNum Humans: 1\tNum Robots:42\tp_robot:0.9877755273449553\n",
      "179:0.72\tNum Humans: 1\tNum Robots:42\tp_robot:0.9937903346742238\n",
      "180:0.72\tNum Humans: 1\tNum Robots:42\tp_robot:0.9986501019683699\n",
      "181:0.72\tNum Humans: 1\tNum Robots:43\tp_robot:0.5\n",
      "182:0.73\tNum Humans: 1\tNum Robots:43\tp_robot:0.691462461274013\n",
      "183:0.73\tNum Humans: 1\tNum Robots:43\tp_robot:0.8413447460685429\n",
      "184:0.74\tNum Humans: 1\tNum Robots:43\tp_robot:0.8943502263331446\n",
      "185:0.74\tNum Humans: 1\tNum Robots:43\tp_robot:0.9331927987311419\n",
      "186:0.74\tNum Humans: 1\tNum Robots:43\tp_robot:0.9599408431361829\n",
      "187:0.75\tNum Humans: 1\tNum Robots:43\tp_robot:0.9772498680518208\n",
      "188:0.75\tNum Humans: 1\tNum Robots:43\tp_robot:0.9877755273449553\n",
      "189:0.76\tNum Humans: 1\tNum Robots:43\tp_robot:0.9937903346742238\n",
      "190:0.76\tNum Humans: 1\tNum Robots:43\tp_robot:0.9986501019683699\n",
      "191:0.76\tNum Humans: 1\tNum Robots:44\tp_robot:0.5\n",
      "192:0.77\tNum Humans: 1\tNum Robots:44\tp_robot:0.691462461274013\n",
      "193:0.77\tNum Humans: 1\tNum Robots:44\tp_robot:0.8413447460685429\n",
      "194:0.78\tNum Humans: 1\tNum Robots:44\tp_robot:0.8943502263331446\n",
      "195:0.78\tNum Humans: 1\tNum Robots:44\tp_robot:0.9331927987311419\n",
      "196:0.78\tNum Humans: 1\tNum Robots:44\tp_robot:0.9599408431361829\n",
      "197:0.79\tNum Humans: 1\tNum Robots:44\tp_robot:0.9772498680518208\n",
      "198:0.79\tNum Humans: 1\tNum Robots:44\tp_robot:0.9877755273449553\n",
      "199:0.80\tNum Humans: 1\tNum Robots:44\tp_robot:0.9937903346742238\n",
      "200:0.80\tNum Humans: 1\tNum Robots:44\tp_robot:0.9986501019683699\n",
      "201:0.80\tNum Humans: 1\tNum Robots:45\tp_robot:0.5\n",
      "202:0.81\tNum Humans: 1\tNum Robots:45\tp_robot:0.691462461274013\n",
      "203:0.81\tNum Humans: 1\tNum Robots:45\tp_robot:0.8413447460685429\n",
      "204:0.82\tNum Humans: 1\tNum Robots:45\tp_robot:0.8943502263331446\n",
      "205:0.82\tNum Humans: 1\tNum Robots:45\tp_robot:0.9331927987311419\n",
      "206:0.82\tNum Humans: 1\tNum Robots:45\tp_robot:0.9599408431361829\n",
      "207:0.83\tNum Humans: 1\tNum Robots:45\tp_robot:0.9772498680518208\n",
      "208:0.83\tNum Humans: 1\tNum Robots:45\tp_robot:0.9877755273449553\n",
      "209:0.84\tNum Humans: 1\tNum Robots:45\tp_robot:0.9937903346742238\n",
      "210:0.84\tNum Humans: 1\tNum Robots:45\tp_robot:0.9986501019683699\n",
      "211:0.84\tNum Humans: 1\tNum Robots:46\tp_robot:0.5\n"
     ]
    },
    {
     "ename": "MemoryError",
     "evalue": "",
     "output_type": "error",
     "traceback": [
      "\u001b[1;31m---------------------------------------------------------------------------\u001b[0m",
      "\u001b[1;31mRemoteTraceback\u001b[0m                           Traceback (most recent call last)",
      "\u001b[1;31mRemoteTraceback\u001b[0m: \n\"\"\"\nTraceback (most recent call last):\n  File \"C:\\Program Files (x86)\\Microsoft Visual Studio\\Shared\\Anaconda3_64\\lib\\multiprocessing\\pool.py\", line 119, in worker\n    result = (True, func(*args, **kwds))\n  File \"C:\\Program Files (x86)\\Microsoft Visual Studio\\Shared\\Anaconda3_64\\lib\\multiprocessing\\pool.py\", line 44, in mapstar\n    return list(map(*args))\n  File \"C:\\Users\\jil26\\Documents\\GitHub\\MIT\\SimulationOfFleet\\defs.py\", line 195, in simulate\n    p_human_down = calcPercentage(Humans)\n  File \"C:\\Users\\jil26\\Documents\\GitHub\\MIT\\SimulationOfFleet\\defs.py\", line 142, in calcPercentage\n    hist  = np.zeros((n_sec))\nMemoryError\n\"\"\"",
      "\nThe above exception was the direct cause of the following exception:\n",
      "\u001b[1;31mMemoryError\u001b[0m                               Traceback (most recent call last)",
      "\u001b[1;32m<ipython-input-9-a1dd60e77498>\u001b[0m in \u001b[0;36m<module>\u001b[1;34m()\u001b[0m\n\u001b[0;32m     27\u001b[0m                 \u001b[0mi\u001b[0m\u001b[1;33m+=\u001b[0m\u001b[1;36m1\u001b[0m\u001b[1;33m\u001b[0m\u001b[0m\n\u001b[0;32m     28\u001b[0m                 \u001b[1;32mif\u001b[0m \u001b[0mi\u001b[0m\u001b[1;33m>=\u001b[0m\u001b[0mstart_on\u001b[0m\u001b[1;33m:\u001b[0m\u001b[1;33m\u001b[0m\u001b[0m\n\u001b[1;32m---> 29\u001b[1;33m                     \u001b[0mdata\u001b[0m \u001b[1;33m=\u001b[0m \u001b[0mgetPoint\u001b[0m\u001b[1;33m(\u001b[0m\u001b[0mn_robots\u001b[0m\u001b[1;33m,\u001b[0m \u001b[0mp_robot\u001b[0m\u001b[1;33m,\u001b[0m\u001b[0mn_humans\u001b[0m\u001b[1;33m,\u001b[0m \u001b[0mn_runs\u001b[0m \u001b[1;33m=\u001b[0m \u001b[1;36m10\u001b[0m\u001b[1;33m)\u001b[0m\u001b[1;33m\u001b[0m\u001b[0m\n\u001b[0m\u001b[0;32m     30\u001b[0m                     \u001b[0mrow\u001b[0m \u001b[1;33m=\u001b[0m \u001b[1;33m[\u001b[0m\u001b[0mn_humans\u001b[0m\u001b[1;33m,\u001b[0m\u001b[0mn_robots\u001b[0m\u001b[1;33m,\u001b[0m\u001b[0mp_robot\u001b[0m\u001b[1;33m,\u001b[0m\u001b[0mdata\u001b[0m\u001b[1;33m[\u001b[0m\u001b[1;36m0\u001b[0m\u001b[1;33m,\u001b[0m\u001b[1;36m0\u001b[0m\u001b[1;33m]\u001b[0m\u001b[1;33m,\u001b[0m\u001b[0mdata\u001b[0m\u001b[1;33m[\u001b[0m\u001b[1;36m0\u001b[0m\u001b[1;33m,\u001b[0m\u001b[1;36m1\u001b[0m\u001b[1;33m]\u001b[0m\u001b[1;33m,\u001b[0m\u001b[0mdata\u001b[0m\u001b[1;33m[\u001b[0m\u001b[1;36m1\u001b[0m\u001b[1;33m,\u001b[0m\u001b[1;36m0\u001b[0m\u001b[1;33m]\u001b[0m\u001b[1;33m,\u001b[0m\u001b[0mdata\u001b[0m\u001b[1;33m[\u001b[0m\u001b[1;36m1\u001b[0m\u001b[1;33m,\u001b[0m\u001b[1;36m1\u001b[0m\u001b[1;33m]\u001b[0m\u001b[1;33m,\u001b[0m\u001b[0mdata\u001b[0m\u001b[1;33m[\u001b[0m\u001b[1;36m2\u001b[0m\u001b[1;33m,\u001b[0m\u001b[1;36m0\u001b[0m\u001b[1;33m]\u001b[0m\u001b[1;33m,\u001b[0m\u001b[0mdata\u001b[0m\u001b[1;33m[\u001b[0m\u001b[1;36m2\u001b[0m\u001b[1;33m,\u001b[0m\u001b[1;36m1\u001b[0m\u001b[1;33m]\u001b[0m\u001b[1;33m,\u001b[0m\u001b[0mdata\u001b[0m\u001b[1;33m[\u001b[0m\u001b[1;36m3\u001b[0m\u001b[1;33m,\u001b[0m\u001b[1;36m0\u001b[0m\u001b[1;33m]\u001b[0m\u001b[1;33m,\u001b[0m\u001b[0mdata\u001b[0m\u001b[1;33m[\u001b[0m\u001b[1;36m3\u001b[0m\u001b[1;33m,\u001b[0m\u001b[1;36m1\u001b[0m\u001b[1;33m]\u001b[0m\u001b[1;33m]\u001b[0m\u001b[1;33m\u001b[0m\u001b[0m\n\u001b[0;32m     31\u001b[0m                     \u001b[0mwriter\u001b[0m\u001b[1;33m.\u001b[0m\u001b[0mwriterow\u001b[0m\u001b[1;33m(\u001b[0m\u001b[0mrow\u001b[0m\u001b[1;33m)\u001b[0m\u001b[1;33m\u001b[0m\u001b[0m\n",
      "\u001b[1;32m<ipython-input-8-133a6cebdd19>\u001b[0m in \u001b[0;36mgetPoint\u001b[1;34m(n_robots, p_robot, n_humans, p_human, n_runs)\u001b[0m\n\u001b[0;32m      3\u001b[0m     \u001b[0mpool\u001b[0m\u001b[1;33m=\u001b[0m\u001b[0mPool\u001b[0m\u001b[1;33m(\u001b[0m\u001b[1;36m10\u001b[0m\u001b[1;33m)\u001b[0m\u001b[1;33m\u001b[0m\u001b[0m\n\u001b[0;32m      4\u001b[0m     \u001b[0mfun\u001b[0m \u001b[1;33m=\u001b[0m \u001b[0mpartial\u001b[0m\u001b[1;33m(\u001b[0m\u001b[0msimulate\u001b[0m\u001b[1;33m,\u001b[0m\u001b[0mtime\u001b[0m\u001b[1;33m,\u001b[0m\u001b[0mn_robots\u001b[0m\u001b[1;33m,\u001b[0m\u001b[0mn_humans\u001b[0m\u001b[1;33m,\u001b[0m\u001b[0mp_robot\u001b[0m\u001b[1;33m,\u001b[0m\u001b[0mp_human\u001b[0m\u001b[1;33m)\u001b[0m\u001b[1;33m\u001b[0m\u001b[0m\n\u001b[1;32m----> 5\u001b[1;33m     \u001b[0mans\u001b[0m \u001b[1;33m=\u001b[0m \u001b[0mpool\u001b[0m\u001b[1;33m.\u001b[0m\u001b[0mmap\u001b[0m\u001b[1;33m(\u001b[0m\u001b[0mfun\u001b[0m\u001b[1;33m,\u001b[0m\u001b[1;33m[\u001b[0m\u001b[0mtime\u001b[0m\u001b[1;33m]\u001b[0m\u001b[1;33m*\u001b[0m\u001b[0mn_runs\u001b[0m\u001b[1;33m)\u001b[0m\u001b[1;33m\u001b[0m\u001b[0m\n\u001b[0m\u001b[0;32m      6\u001b[0m     \u001b[0mx\u001b[0m \u001b[1;33m=\u001b[0m \u001b[0mnp\u001b[0m\u001b[1;33m.\u001b[0m\u001b[0marray\u001b[0m\u001b[1;33m(\u001b[0m\u001b[0mans\u001b[0m\u001b[1;33m)\u001b[0m\u001b[1;33m\u001b[0m\u001b[0m\n\u001b[0;32m      7\u001b[0m     \u001b[1;31m#print(x)\u001b[0m\u001b[1;33m\u001b[0m\u001b[1;33m\u001b[0m\u001b[0m\n",
      "\u001b[1;32mC:\\Program Files (x86)\\Microsoft Visual Studio\\Shared\\Anaconda3_64\\lib\\multiprocessing\\pool.py\u001b[0m in \u001b[0;36mmap\u001b[1;34m(self, func, iterable, chunksize)\u001b[0m\n\u001b[0;32m    264\u001b[0m         \u001b[1;32min\u001b[0m \u001b[0ma\u001b[0m \u001b[0mlist\u001b[0m \u001b[0mthat\u001b[0m \u001b[1;32mis\u001b[0m \u001b[0mreturned\u001b[0m\u001b[1;33m.\u001b[0m\u001b[1;33m\u001b[0m\u001b[0m\n\u001b[0;32m    265\u001b[0m         '''\n\u001b[1;32m--> 266\u001b[1;33m         \u001b[1;32mreturn\u001b[0m \u001b[0mself\u001b[0m\u001b[1;33m.\u001b[0m\u001b[0m_map_async\u001b[0m\u001b[1;33m(\u001b[0m\u001b[0mfunc\u001b[0m\u001b[1;33m,\u001b[0m \u001b[0miterable\u001b[0m\u001b[1;33m,\u001b[0m \u001b[0mmapstar\u001b[0m\u001b[1;33m,\u001b[0m \u001b[0mchunksize\u001b[0m\u001b[1;33m)\u001b[0m\u001b[1;33m.\u001b[0m\u001b[0mget\u001b[0m\u001b[1;33m(\u001b[0m\u001b[1;33m)\u001b[0m\u001b[1;33m\u001b[0m\u001b[0m\n\u001b[0m\u001b[0;32m    267\u001b[0m \u001b[1;33m\u001b[0m\u001b[0m\n\u001b[0;32m    268\u001b[0m     \u001b[1;32mdef\u001b[0m \u001b[0mstarmap\u001b[0m\u001b[1;33m(\u001b[0m\u001b[0mself\u001b[0m\u001b[1;33m,\u001b[0m \u001b[0mfunc\u001b[0m\u001b[1;33m,\u001b[0m \u001b[0miterable\u001b[0m\u001b[1;33m,\u001b[0m \u001b[0mchunksize\u001b[0m\u001b[1;33m=\u001b[0m\u001b[1;32mNone\u001b[0m\u001b[1;33m)\u001b[0m\u001b[1;33m:\u001b[0m\u001b[1;33m\u001b[0m\u001b[0m\n",
      "\u001b[1;32mC:\\Program Files (x86)\\Microsoft Visual Studio\\Shared\\Anaconda3_64\\lib\\multiprocessing\\pool.py\u001b[0m in \u001b[0;36mget\u001b[1;34m(self, timeout)\u001b[0m\n\u001b[0;32m    642\u001b[0m             \u001b[1;32mreturn\u001b[0m \u001b[0mself\u001b[0m\u001b[1;33m.\u001b[0m\u001b[0m_value\u001b[0m\u001b[1;33m\u001b[0m\u001b[0m\n\u001b[0;32m    643\u001b[0m         \u001b[1;32melse\u001b[0m\u001b[1;33m:\u001b[0m\u001b[1;33m\u001b[0m\u001b[0m\n\u001b[1;32m--> 644\u001b[1;33m             \u001b[1;32mraise\u001b[0m \u001b[0mself\u001b[0m\u001b[1;33m.\u001b[0m\u001b[0m_value\u001b[0m\u001b[1;33m\u001b[0m\u001b[0m\n\u001b[0m\u001b[0;32m    645\u001b[0m \u001b[1;33m\u001b[0m\u001b[0m\n\u001b[0;32m    646\u001b[0m     \u001b[1;32mdef\u001b[0m \u001b[0m_set\u001b[0m\u001b[1;33m(\u001b[0m\u001b[0mself\u001b[0m\u001b[1;33m,\u001b[0m \u001b[0mi\u001b[0m\u001b[1;33m,\u001b[0m \u001b[0mobj\u001b[0m\u001b[1;33m)\u001b[0m\u001b[1;33m:\u001b[0m\u001b[1;33m\u001b[0m\u001b[0m\n",
      "\u001b[1;31mMemoryError\u001b[0m: "
     ]
    }
   ],
   "source": [
    "#y= [x/2.0 for x in range(0,7)]\n",
    "y = [0.0, 0.5, 1.0,1.25, 1.5,1.75, 2.0, 2.25, 2.5, 3.0]\n",
    "print(y)\n",
    "z = [Phi(x) for x in y]\n",
    "print(z)\n",
    "\n",
    "i=0\n",
    "start_on=0\n",
    "run=5\n",
    "with open(f'CDF{run}.csv',mode='w',newline='') as csv_file:\n",
    "    fieldnames = ['n_humans','n_robots','p_robot','mean Human Down',' stdev human down','mean robot Down',' stdev robot down','Success rate','stdev successrate','n_total','stdev n_total']\n",
    "    writer = csv.writer(csv_file,delimiter=',')\n",
    "    writer.writerow(fieldnames)\n",
    "    #n_humans = 1\n",
    "    #n_robots = 1#3\n",
    "    #p_robot  = 0.6\n",
    "    ns_of_robots = range(25,50)\n",
    "    ns_of_humans = [1]#range(1,4)\n",
    "        #[0.6,1   ,1.2,1.6,1.96,2.58,3    ,4]\n",
    "    ps = z#[0.5,0.68,0.8,0.9,0.95,0.99,0.997,0.99994]\n",
    "    \n",
    "    to_run = len(ns_of_robots)*len(ns_of_humans)*len(ps) \n",
    "    \n",
    "    for n_robots in ns_of_robots:\n",
    "        for n_humans in ns_of_humans:\n",
    "            for p_robot in ps:\n",
    "                i+=1\n",
    "                if i>=start_on:\n",
    "                    data = getPoint(n_robots, p_robot,n_humans, n_runs = 10)\n",
    "                    row = [n_humans,n_robots,p_robot,data[0,0],data[0,1],data[1,0],data[1,1],data[2,0],data[2,1],data[3,0],data[3,1]]\n",
    "                    writer.writerow(row)\n",
    "                    p = float(i/to_run)\n",
    "                    print(f'{i}:'+\"{0:.2f}\".format(p)+f'\\tNum Humans: {n_humans}\\tNum Robots:{n_robots}\\tp_robot:{p_robot}')\n",
    "\n",
    "    "
   ]
  },
  {
   "cell_type": "code",
   "execution_count": 10,
   "metadata": {},
   "outputs": [
    {
     "data": {
      "text/plain": [
       "0.9986501019683699"
      ]
     },
     "execution_count": 10,
     "metadata": {},
     "output_type": "execute_result"
    }
   ],
   "source": [
    "Phi(3)"
   ]
  },
  {
   "cell_type": "code",
   "execution_count": 11,
   "metadata": {},
   "outputs": [
    {
     "data": {
      "text/plain": [
       "0.84134474606854293"
      ]
     },
     "execution_count": 11,
     "metadata": {},
     "output_type": "execute_result"
    }
   ],
   "source": [
    "Phi(1)"
   ]
  },
  {
   "cell_type": "code",
   "execution_count": 12,
   "metadata": {},
   "outputs": [
    {
     "data": {
      "text/plain": [
       "0.97724986805182079"
      ]
     },
     "execution_count": 12,
     "metadata": {},
     "output_type": "execute_result"
    }
   ],
   "source": [
    "Phi(2)"
   ]
  },
  {
   "cell_type": "code",
   "execution_count": null,
   "metadata": {
    "collapsed": true
   },
   "outputs": [],
   "source": []
  }
 ],
 "metadata": {
  "kernelspec": {
   "display_name": "Python 3",
   "language": "python",
   "name": "python3"
  },
  "language_info": {
   "codemirror_mode": {
    "name": "ipython",
    "version": 3
   },
   "file_extension": ".py",
   "mimetype": "text/x-python",
   "name": "python",
   "nbconvert_exporter": "python",
   "pygments_lexer": "ipython3",
   "version": "3.6.2"
  }
 },
 "nbformat": 4,
 "nbformat_minor": 2
}
