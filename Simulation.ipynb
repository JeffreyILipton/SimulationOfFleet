{
 "cells": [
  {
   "cell_type": "code",
   "execution_count": 5,
   "metadata": {
    "collapsed": true
   },
   "outputs": [],
   "source": [
    "import numpy as np\n",
    "from functools import *\n",
    "from itertools import *\n",
    "from operator import *\n",
    "from random import *\n",
    "from multiprocessing import Pool\n",
    "from defs import *\n",
    "import csv\n",
    "\n",
    "import scipy\n",
    "from scipy import special\n",
    "import math"
   ]
  },
  {
   "cell_type": "markdown",
   "metadata": {},
   "source": [
    "http://robotics.sciencemag.org/\n",
    "    \n",
    "http://www.sciencemag.org/journals/robotics/call-for-papers\n",
    "\n",
    "http://www.sciencemag.org/information-authors-2?_ga=2.235092801.1913050079.1534704804-5095294.1518029753\n"
   ]
  },
  {
   "cell_type": "markdown",
   "metadata": {},
   "source": [
    "https://stackoverflow.com/questions/20548628/how-to-do-parallel-programming-in-python\n",
    "\n",
    "https://github.com/ResearchComputing/jupyter-at-rc/wiki/Parallel-Programming-with-Jupyter-Notebooks\n",
    "\n",
    "https://stackoverflow.com/questions/47313732/jupyter-notebook-never-finishes-processing-using-multiprocessing-python-3/47374811#47374811"
   ]
  },
  {
   "cell_type": "markdown",
   "metadata": {},
   "source": [
    "https://www.wikiwand.com/en/Cumulative_distribution_function\n",
    "\n",
    "https://docs.scipy.org/doc/scipy-0.14.0/reference/generated/scipy.special.erf.html\n"
   ]
  },
  {
   "cell_type": "code",
   "execution_count": 6,
   "metadata": {
    "collapsed": true
   },
   "outputs": [],
   "source": [
    "def Phi(z):\n",
    "    return 1/2*(1 + special.erf(z/math.sqrt(2)))"
   ]
  },
  {
   "cell_type": "code",
   "execution_count": 7,
   "metadata": {},
   "outputs": [
    {
     "name": "stdout",
     "output_type": "stream",
     "text": [
      "[0.0, 0.5, 1.0, 1.5, 2.0, 2.25, 2.5, 3.0]\n",
      "[0.5, 0.69146246127401301, 0.84134474606854293, 0.93319279873114191, 0.97724986805182079, 0.98777552734495533, 0.99379033467422384, 0.9986501019683699]\n"
     ]
    }
   ],
   "source": [
    "#y= [x/2.0 for x in range(0,7)]\n",
    "y = [0.0, 0.5, 1.0, 1.5, 2.0, 2.25, 2.5, 3.0]\n",
    "print(y)\n",
    "z = [Phi(x) for x in y]\n",
    "print(z)"
   ]
  },
  {
   "cell_type": "code",
   "execution_count": 8,
   "metadata": {
    "collapsed": true
   },
   "outputs": [],
   "source": [
    "def getPoint(n_robots=3,p_robot=0.95,n_humans=1,p_human=0.95,n_runs=10):\n",
    "    time = 30*24*60*60\n",
    "    pool=Pool(10)\n",
    "    fun = partial(simulate,time,n_robots,n_humans,p_robot,p_human)\n",
    "    ans = pool.map(fun,[time]*n_runs)\n",
    "    x = np.array(ans)\n",
    "    #print(x)\n",
    "    y = np.array([[np.mean(x[:,0]), np.std(x[:,0])],[np.mean(x[:,1]), np.std(x[:,1])],[np.mean(x[:,2]), np.std(x[:,2])],[np.mean(x[:,3]), np.std(x[:,3])]])\n",
    "    return y"
   ]
  },
  {
   "cell_type": "code",
   "execution_count": null,
   "metadata": {},
   "outputs": [],
   "source": [
    "\n",
    "i=0\n",
    "start_on=0\n",
    "run=1\n",
    "with open(f'CDF{run}.csv',mode='w',newline='') as csv_file:\n",
    "    fieldnames = ['n_humans','n_robots','p_robot','mean Human Down',' stdev human down','mean robot Down',' stdev robot down','Success rate','stdev successrate','n_total','stdev n_total']\n",
    "    writer = csv.writer(csv_file,delimiter=',')\n",
    "    writer.writerow(fieldnames)\n",
    "    #n_humans = 1\n",
    "    #n_robots = 1#3\n",
    "    #p_robot  = 0.6\n",
    "    ns_of_robots = range(1,25)\n",
    "    ns_of_humans = [1]#range(1,4)\n",
    "        #[0.6,1   ,1.2,1.6,1.96,2.58,3    ,4]\n",
    "    ps = z#[0.5,0.68,0.8,0.9,0.95,0.99,0.997,0.99994]\n",
    "    \n",
    "    to_run = len(ns_of_robots)*len(ns_of_humans)*len(ps) \n",
    "    \n",
    "    for n_robots in ns_of_robots:\n",
    "        for n_humans in ns_of_humans:\n",
    "            for p_robot in ps:\n",
    "                i+=1\n",
    "                if i>=start_on:\n",
    "                    data = getPoint(n_robots, p_robot,n_humans, n_runs = 10)\n",
    "                    row = [n_humans,n_robots,p_robot,data[0,0],data[0,1],data[1,0],data[1,1],data[2,0],data[2,1],data[3,0],data[3,1]]\n",
    "                    writer.writerow(row)\n",
    "                    p = float(i/to_run)\n",
    "                    print(f'{i}:'+\"{0:.2f}\".format(p)+f'\\tNum Humans: {n_humans}\\tNum Robots:{n_robots}\\tp_robot:{p_robot}')\n",
    "\n",
    "    "
   ]
  },
  {
   "cell_type": "code",
   "execution_count": null,
   "metadata": {},
   "outputs": [
    {
     "name": "stdout",
     "output_type": "stream",
     "text": [
      "[0.0, 0.5, 1.0, 1.25, 1.5, 1.75, 2.0, 2.25, 2.5, 3.0]\n",
      "[0.5, 0.69146246127401301, 0.84134474606854293, 0.89435022633314465, 0.93319279873114191, 0.95994084313618289, 0.97724986805182079, 0.98777552734495533, 0.99379033467422384, 0.9986501019683699]\n",
      "1:0.00\tNum Humans: 1\tNum Robots:25\tp_robot:0.5\n",
      "2:0.01\tNum Humans: 1\tNum Robots:25\tp_robot:0.691462461274013\n",
      "3:0.01\tNum Humans: 1\tNum Robots:25\tp_robot:0.8413447460685429\n",
      "4:0.02\tNum Humans: 1\tNum Robots:25\tp_robot:0.8943502263331446\n",
      "5:0.02\tNum Humans: 1\tNum Robots:25\tp_robot:0.9331927987311419\n",
      "6:0.02\tNum Humans: 1\tNum Robots:25\tp_robot:0.9599408431361829\n",
      "7:0.03\tNum Humans: 1\tNum Robots:25\tp_robot:0.9772498680518208\n",
      "8:0.03\tNum Humans: 1\tNum Robots:25\tp_robot:0.9877755273449553\n",
      "9:0.04\tNum Humans: 1\tNum Robots:25\tp_robot:0.9937903346742238\n",
      "10:0.04\tNum Humans: 1\tNum Robots:25\tp_robot:0.9986501019683699\n",
      "11:0.04\tNum Humans: 1\tNum Robots:26\tp_robot:0.5\n",
      "12:0.05\tNum Humans: 1\tNum Robots:26\tp_robot:0.691462461274013\n",
      "13:0.05\tNum Humans: 1\tNum Robots:26\tp_robot:0.8413447460685429\n",
      "14:0.06\tNum Humans: 1\tNum Robots:26\tp_robot:0.8943502263331446\n",
      "15:0.06\tNum Humans: 1\tNum Robots:26\tp_robot:0.9331927987311419\n",
      "16:0.06\tNum Humans: 1\tNum Robots:26\tp_robot:0.9599408431361829\n",
      "17:0.07\tNum Humans: 1\tNum Robots:26\tp_robot:0.9772498680518208\n",
      "18:0.07\tNum Humans: 1\tNum Robots:26\tp_robot:0.9877755273449553\n",
      "19:0.08\tNum Humans: 1\tNum Robots:26\tp_robot:0.9937903346742238\n",
      "20:0.08\tNum Humans: 1\tNum Robots:26\tp_robot:0.9986501019683699\n",
      "21:0.08\tNum Humans: 1\tNum Robots:27\tp_robot:0.5\n",
      "22:0.09\tNum Humans: 1\tNum Robots:27\tp_robot:0.691462461274013\n",
      "23:0.09\tNum Humans: 1\tNum Robots:27\tp_robot:0.8413447460685429\n",
      "24:0.10\tNum Humans: 1\tNum Robots:27\tp_robot:0.8943502263331446\n",
      "25:0.10\tNum Humans: 1\tNum Robots:27\tp_robot:0.9331927987311419\n",
      "26:0.10\tNum Humans: 1\tNum Robots:27\tp_robot:0.9599408431361829\n",
      "27:0.11\tNum Humans: 1\tNum Robots:27\tp_robot:0.9772498680518208\n",
      "28:0.11\tNum Humans: 1\tNum Robots:27\tp_robot:0.9877755273449553\n",
      "29:0.12\tNum Humans: 1\tNum Robots:27\tp_robot:0.9937903346742238\n",
      "30:0.12\tNum Humans: 1\tNum Robots:27\tp_robot:0.9986501019683699\n",
      "31:0.12\tNum Humans: 1\tNum Robots:28\tp_robot:0.5\n",
      "32:0.13\tNum Humans: 1\tNum Robots:28\tp_robot:0.691462461274013\n",
      "33:0.13\tNum Humans: 1\tNum Robots:28\tp_robot:0.8413447460685429\n",
      "34:0.14\tNum Humans: 1\tNum Robots:28\tp_robot:0.8943502263331446\n",
      "35:0.14\tNum Humans: 1\tNum Robots:28\tp_robot:0.9331927987311419\n",
      "36:0.14\tNum Humans: 1\tNum Robots:28\tp_robot:0.9599408431361829\n",
      "37:0.15\tNum Humans: 1\tNum Robots:28\tp_robot:0.9772498680518208\n",
      "38:0.15\tNum Humans: 1\tNum Robots:28\tp_robot:0.9877755273449553\n",
      "39:0.16\tNum Humans: 1\tNum Robots:28\tp_robot:0.9937903346742238\n",
      "40:0.16\tNum Humans: 1\tNum Robots:28\tp_robot:0.9986501019683699\n",
      "41:0.16\tNum Humans: 1\tNum Robots:29\tp_robot:0.5\n",
      "42:0.17\tNum Humans: 1\tNum Robots:29\tp_robot:0.691462461274013\n",
      "43:0.17\tNum Humans: 1\tNum Robots:29\tp_robot:0.8413447460685429\n",
      "44:0.18\tNum Humans: 1\tNum Robots:29\tp_robot:0.8943502263331446\n",
      "45:0.18\tNum Humans: 1\tNum Robots:29\tp_robot:0.9331927987311419\n",
      "46:0.18\tNum Humans: 1\tNum Robots:29\tp_robot:0.9599408431361829\n",
      "47:0.19\tNum Humans: 1\tNum Robots:29\tp_robot:0.9772498680518208\n",
      "48:0.19\tNum Humans: 1\tNum Robots:29\tp_robot:0.9877755273449553\n",
      "49:0.20\tNum Humans: 1\tNum Robots:29\tp_robot:0.9937903346742238\n",
      "50:0.20\tNum Humans: 1\tNum Robots:29\tp_robot:0.9986501019683699\n",
      "51:0.20\tNum Humans: 1\tNum Robots:30\tp_robot:0.5\n",
      "52:0.21\tNum Humans: 1\tNum Robots:30\tp_robot:0.691462461274013\n",
      "53:0.21\tNum Humans: 1\tNum Robots:30\tp_robot:0.8413447460685429\n",
      "54:0.22\tNum Humans: 1\tNum Robots:30\tp_robot:0.8943502263331446\n",
      "55:0.22\tNum Humans: 1\tNum Robots:30\tp_robot:0.9331927987311419\n",
      "56:0.22\tNum Humans: 1\tNum Robots:30\tp_robot:0.9599408431361829\n",
      "57:0.23\tNum Humans: 1\tNum Robots:30\tp_robot:0.9772498680518208\n",
      "58:0.23\tNum Humans: 1\tNum Robots:30\tp_robot:0.9877755273449553\n",
      "59:0.24\tNum Humans: 1\tNum Robots:30\tp_robot:0.9937903346742238\n",
      "60:0.24\tNum Humans: 1\tNum Robots:30\tp_robot:0.9986501019683699\n",
      "61:0.24\tNum Humans: 1\tNum Robots:31\tp_robot:0.5\n",
      "62:0.25\tNum Humans: 1\tNum Robots:31\tp_robot:0.691462461274013\n",
      "63:0.25\tNum Humans: 1\tNum Robots:31\tp_robot:0.8413447460685429\n",
      "64:0.26\tNum Humans: 1\tNum Robots:31\tp_robot:0.8943502263331446\n",
      "65:0.26\tNum Humans: 1\tNum Robots:31\tp_robot:0.9331927987311419\n",
      "66:0.26\tNum Humans: 1\tNum Robots:31\tp_robot:0.9599408431361829\n",
      "67:0.27\tNum Humans: 1\tNum Robots:31\tp_robot:0.9772498680518208\n",
      "68:0.27\tNum Humans: 1\tNum Robots:31\tp_robot:0.9877755273449553\n",
      "69:0.28\tNum Humans: 1\tNum Robots:31\tp_robot:0.9937903346742238\n",
      "70:0.28\tNum Humans: 1\tNum Robots:31\tp_robot:0.9986501019683699\n",
      "71:0.28\tNum Humans: 1\tNum Robots:32\tp_robot:0.5\n",
      "72:0.29\tNum Humans: 1\tNum Robots:32\tp_robot:0.691462461274013\n",
      "73:0.29\tNum Humans: 1\tNum Robots:32\tp_robot:0.8413447460685429\n",
      "74:0.30\tNum Humans: 1\tNum Robots:32\tp_robot:0.8943502263331446\n",
      "75:0.30\tNum Humans: 1\tNum Robots:32\tp_robot:0.9331927987311419\n",
      "76:0.30\tNum Humans: 1\tNum Robots:32\tp_robot:0.9599408431361829\n",
      "77:0.31\tNum Humans: 1\tNum Robots:32\tp_robot:0.9772498680518208\n",
      "78:0.31\tNum Humans: 1\tNum Robots:32\tp_robot:0.9877755273449553\n",
      "79:0.32\tNum Humans: 1\tNum Robots:32\tp_robot:0.9937903346742238\n",
      "80:0.32\tNum Humans: 1\tNum Robots:32\tp_robot:0.9986501019683699\n",
      "81:0.32\tNum Humans: 1\tNum Robots:33\tp_robot:0.5\n",
      "82:0.33\tNum Humans: 1\tNum Robots:33\tp_robot:0.691462461274013\n",
      "83:0.33\tNum Humans: 1\tNum Robots:33\tp_robot:0.8413447460685429\n",
      "84:0.34\tNum Humans: 1\tNum Robots:33\tp_robot:0.8943502263331446\n",
      "85:0.34\tNum Humans: 1\tNum Robots:33\tp_robot:0.9331927987311419\n",
      "86:0.34\tNum Humans: 1\tNum Robots:33\tp_robot:0.9599408431361829\n",
      "87:0.35\tNum Humans: 1\tNum Robots:33\tp_robot:0.9772498680518208\n",
      "88:0.35\tNum Humans: 1\tNum Robots:33\tp_robot:0.9877755273449553\n",
      "89:0.36\tNum Humans: 1\tNum Robots:33\tp_robot:0.9937903346742238\n",
      "90:0.36\tNum Humans: 1\tNum Robots:33\tp_robot:0.9986501019683699\n",
      "91:0.36\tNum Humans: 1\tNum Robots:34\tp_robot:0.5\n",
      "92:0.37\tNum Humans: 1\tNum Robots:34\tp_robot:0.691462461274013\n",
      "93:0.37\tNum Humans: 1\tNum Robots:34\tp_robot:0.8413447460685429\n",
      "94:0.38\tNum Humans: 1\tNum Robots:34\tp_robot:0.8943502263331446\n",
      "95:0.38\tNum Humans: 1\tNum Robots:34\tp_robot:0.9331927987311419\n",
      "96:0.38\tNum Humans: 1\tNum Robots:34\tp_robot:0.9599408431361829\n",
      "97:0.39\tNum Humans: 1\tNum Robots:34\tp_robot:0.9772498680518208\n",
      "98:0.39\tNum Humans: 1\tNum Robots:34\tp_robot:0.9877755273449553\n",
      "99:0.40\tNum Humans: 1\tNum Robots:34\tp_robot:0.9937903346742238\n",
      "100:0.40\tNum Humans: 1\tNum Robots:34\tp_robot:0.9986501019683699\n",
      "101:0.40\tNum Humans: 1\tNum Robots:35\tp_robot:0.5\n",
      "102:0.41\tNum Humans: 1\tNum Robots:35\tp_robot:0.691462461274013\n",
      "103:0.41\tNum Humans: 1\tNum Robots:35\tp_robot:0.8413447460685429\n"
     ]
    }
   ],
   "source": [
    "#y= [x/2.0 for x in range(0,7)]\n",
    "y = [0.0, 0.5, 1.0,1.25, 1.5,1.75, 2.0, 2.25, 2.5, 3.0]\n",
    "print(y)\n",
    "z = [Phi(x) for x in y]\n",
    "print(z)\n",
    "\n",
    "i=0\n",
    "start_on=0\n",
    "run=5\n",
    "with open(f'CDF{run}.csv',mode='w',newline='') as csv_file:\n",
    "    fieldnames = ['n_humans','n_robots','p_robot','mean Human Down',' stdev human down','mean robot Down',' stdev robot down','Success rate','stdev successrate','n_total','stdev n_total']\n",
    "    writer = csv.writer(csv_file,delimiter=',')\n",
    "    writer.writerow(fieldnames)\n",
    "    #n_humans = 1\n",
    "    #n_robots = 1#3\n",
    "    #p_robot  = 0.6\n",
    "    ns_of_robots = range(25,50)\n",
    "    ns_of_humans = [1]#range(1,4)\n",
    "        #[0.6,1   ,1.2,1.6,1.96,2.58,3    ,4]\n",
    "    ps = z#[0.5,0.68,0.8,0.9,0.95,0.99,0.997,0.99994]\n",
    "    \n",
    "    to_run = len(ns_of_robots)*len(ns_of_humans)*len(ps) \n",
    "    \n",
    "    for n_robots in ns_of_robots:\n",
    "        for n_humans in ns_of_humans:\n",
    "            for p_robot in ps:\n",
    "                i+=1\n",
    "                if i>=start_on:\n",
    "                    data = getPoint(n_robots, p_robot,n_humans, n_runs = 10)\n",
    "                    row = [n_humans,n_robots,p_robot,data[0,0],data[0,1],data[1,0],data[1,1],data[2,0],data[2,1],data[3,0],data[3,1]]\n",
    "                    writer.writerow(row)\n",
    "                    p = float(i/to_run)\n",
    "                    print(f'{i}:'+\"{0:.2f}\".format(p)+f'\\tNum Humans: {n_humans}\\tNum Robots:{n_robots}\\tp_robot:{p_robot}')\n",
    "\n",
    "    "
   ]
  },
  {
   "cell_type": "code",
   "execution_count": null,
   "metadata": {
    "collapsed": true
   },
   "outputs": [],
   "source": []
  }
 ],
 "metadata": {
  "kernelspec": {
   "display_name": "Python 3",
   "language": "python",
   "name": "python3"
  },
  "language_info": {
   "codemirror_mode": {
    "name": "ipython",
    "version": 3
   },
   "file_extension": ".py",
   "mimetype": "text/x-python",
   "name": "python",
   "nbconvert_exporter": "python",
   "pygments_lexer": "ipython3",
   "version": "3.6.2"
  }
 },
 "nbformat": 4,
 "nbformat_minor": 2
}
