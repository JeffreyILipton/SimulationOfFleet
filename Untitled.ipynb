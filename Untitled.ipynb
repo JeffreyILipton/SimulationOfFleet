{
 "cells": [
  {
   "cell_type": "code",
   "execution_count": 1,
   "metadata": {
    "collapsed": true
   },
   "outputs": [],
   "source": [
    "import numpy as np\n",
    "from functools import *\n",
    "from itertools import *\n",
    "from operator import *\n",
    "from random import *"
   ]
  },
  {
   "cell_type": "code",
   "execution_count": 2,
   "metadata": {},
   "outputs": [],
   "source": [
    "def rand(percent):\n",
    "    '''Returns A percent% of the time'''\n",
    "    r = random()\n",
    "    if(r>percent):\n",
    "        return False\n",
    "    return True"
   ]
  },
  {
   "cell_type": "code",
   "execution_count": 3,
   "metadata": {
    "collapsed": true
   },
   "outputs": [],
   "source": [
    "class Agent:\n",
    "    def __init__(self,idnum,numtime,successrate,debug=False):\n",
    "        # This is the history of the agent being idle\n",
    "        self.Debug = debug\n",
    "        self.idnum=idnum\n",
    "        self.history = np.zeros((numtime))\n",
    "        # This function calculates if the agent was sucessful of the task\n",
    "        self.calcSuccess = partial(rand,successrate)\n",
    "        # initialize the times\n",
    "        self.countdown = 0\n",
    "        self.time = 0\n",
    "        self.successCount = 0\n",
    "        self.failCount = 0\n",
    "    \n",
    "    def timeStep(self):\n",
    "        self.countdown-=1\n",
    "        self.time+=1\n",
    "        #if self.Debug: print(f'{self.time}:{self.countdown}')\n",
    "    \n",
    "    def updateHistory(self):\n",
    "        # if done with task record idle time\n",
    "        if self.countdown <0:\n",
    "            self.history[self.time-1] = 1\n",
    "            \n",
    "            \n",
    "class Robot(Agent):\n",
    "    def __init__(self,idnum,numtime,successrate,mu,sigma,mintime,debug=False):\n",
    "        Agent.__init__(self,idnum,numtime,successrate,debug)\n",
    "        self.calcTime=lambda: int(max(mintime,np.random.normal(mu,sigma)))\n",
    "        self.countdown = self.calcTime()\n",
    "        self.auto = True\n",
    "        \n",
    "    \n",
    "    def setAuto(self,auto):\n",
    "        # if set to auto mode, then start a task\n",
    "        # if set to false, the robot is controlled and idle count stops\n",
    "        self.auto = auto\n",
    "        if self.auto:\n",
    "            self.countdown = self.calcTime()\n",
    "        \n",
    "    def timeStep(self):\n",
    "        # if done, see if you were successful start a task\n",
    "        # otherwise wait for help. \n",
    "        Agent.timeStep(self)\n",
    "        if self.countdown ==0:\n",
    "            if self.calcSuccess():\n",
    "                self.countdown = self.calcTime()\n",
    "                self.successCount+=1\n",
    "            else:\n",
    "                self.failCount+=1\n",
    "        if self.Debug: print(f'Robot State\\tCount:{self.countdown}\\tAuto:{self.auto}')\n",
    "    \n",
    "    def updateHistory(self):\n",
    "        # if done with task record idle time\n",
    "        if self.countdown <0 and (True == self.auto):\n",
    "            self.history[self.time-1] = 1\n",
    "            \n",
    "            \n",
    "class Human(Agent):\n",
    "    def __init__(self,idnum,numtime,successrate,successTime,robot=None,debug=False):\n",
    "        Agent.__init__(self,idnum,numtime,successrate,debug)\n",
    "        # time is fixed\n",
    "        self.calcTime=lambda: int(successTime)\n",
    "        self.robot = robot\n",
    "        # history of which robot the human is controlling\n",
    "        self.robot_history = np.zeros((numtime))\n",
    "\n",
    "    def setRobot(self,robot):\n",
    "        # if robot passed, take control of robot by taking it out of auto mode\n",
    "        # otherwise it should be None and the system stops. \n",
    "        self.robot = robot\n",
    "        if self.robot !=None: self.robot.setAuto(False)\n",
    "        \n",
    "    def timeStep(self):\n",
    "        Agent.timeStep(self)\n",
    "        # if idle and robot is set, start the task and sync robot to human\n",
    "        if self.countdown <0 and self.robot !=None:\n",
    "            self.countdown = self.calcTime()\n",
    "            self.robot.countdown = self.countdown\n",
    "            if self.Debug: print(f'Human Attempt: {self.countdown}')\n",
    "        #if done with a tasks and the robot is attached, calculate if successful\n",
    "        elif self.countdown ==0 and self.robot !=None:\n",
    "            result = self.calcSuccess()\n",
    "            if result: \n",
    "                #update the success count, return robot to auto mode and detach the robot\n",
    "                self.successCount+=1\n",
    "                self.robot.setAuto(True)\n",
    "                self.setRobot(None)\n",
    "            else: \n",
    "                # try again\n",
    "                # Should this be a detach and return to Auto as well? \n",
    "                self.failCount+=1\n",
    "            if self.Debug: print(f'Human {result}')\n",
    "        \n",
    "        # update robot history\n",
    "        rid = 0\n",
    "        if self.robot !=None: rid=self.robot.idnum\n",
    "        self.robot_history[self.time-1]=rid\n",
    "            "
   ]
  },
  {
   "cell_type": "code",
   "execution_count": 4,
   "metadata": {
    "collapsed": true
   },
   "outputs": [],
   "source": [
    "def processTimeStep(Robots,Humans,Debug=False):\n",
    "    # update the robots and find the paused robots\n",
    "    pausedBots=[]\n",
    "    for robot in Robots:\n",
    "        robot.timeStep()\n",
    "        if robot.countdown<0: pausedBots.append(robot)\n",
    "    \n",
    "    if Debug:\n",
    "        nbots = len(pausedBots)\n",
    "        print(f'Number Paused: {nbots}')\n",
    "    \n",
    "    # for each human, assign the robots to the human worker pool\n",
    "    # then update the timestep of the humans\n",
    "    for human in Humans:\n",
    "        if len(pausedBots)>0 :\n",
    "            if None == human.robot:\n",
    "                bot = pausedBots.pop(0)\n",
    "                human.setRobot(bot)\n",
    "        human.timeStep()\n",
    "        \n",
    "    # update the history of the robots\n",
    "    agents = Robots+Humans\n",
    "    for agent in agents:\n",
    "        agent.updateHistory()\n",
    "\n",
    "            "
   ]
  },
  {
   "cell_type": "code",
   "execution_count": 5,
   "metadata": {
    "collapsed": true
   },
   "outputs": [],
   "source": [
    "\n",
    "def calcPercentage(group):\n",
    "    # each time step =1 means system waiting. Sum the system and normalize by number of robots * time\n",
    "    n_sec = group[0].history.size\n",
    "    hist  = np.zeros((n_sec))\n",
    "    for item in group:\n",
    "        hist = hist + item.history\n",
    "    p = np.sum(hist)/(len(group)*hist.size)\n",
    "    return p\n",
    "\n"
   ]
  },
  {
   "cell_type": "code",
   "execution_count": 6,
   "metadata": {
    "collapsed": true
   },
   "outputs": [],
   "source": [
    "def simulate(n_sec = 1000,nrobot=3,nhuman=1):\n",
    "    \n",
    "    #Calculation values\n",
    "    p_robot = 0.95\n",
    "    mu = 20\n",
    "    sigma=10\n",
    "    mintime = 5\n",
    "    \n",
    "    p_human = 0.95\n",
    "    e_human = 60\n",
    "    \n",
    "    Debug = False\n",
    "    \n",
    "    #initialize values\n",
    "    Robots=[]\n",
    "    Humans = []\n",
    "    n_total = 0\n",
    "    n_success = 0\n",
    "    # generate robots and humans\n",
    "    for i in range(0,nrobot):\n",
    "        Robots.append(Robot(1+i,n_sec,p_robot,mu,sigma,mintime))\n",
    "    for i in range(0,nhuman):\n",
    "        Humans.append(Human(1+i,n_sec,p_human,e_human,None,Debug))\n",
    "\n",
    "        \n",
    "    # run the simulation\n",
    "    for i in range(0,n_sec):\n",
    "        processTimeStep(Robots,Humans)\n",
    "\n",
    "        \n",
    "    # Sum up the successes \n",
    "    # sum up the total processings of objects. Failures only ocurr when the human and the robot fail\n",
    "    agents = Robots+Humans\n",
    "    for agent in agents:\n",
    "        s = agent.successCount\n",
    "        f = agent.failCount\n",
    "        if isinstance(agent,Human):\n",
    "            n_total +=f\n",
    "        n_success +=s\n",
    "        n_total += s\n",
    "    #calculate downtimes\n",
    "    p_human_down = calcPercentage(Humans)\n",
    "    p_robot_down = calcPercentage(Robots)\n",
    "    \n",
    "    successrate = n_success/n_total\n",
    "    if Debug: print(f'human down {p_human_down}, and robots down {p_robot_down}')\n",
    "    return p_human_down, p_robot_down, successrate\n"
   ]
  },
  {
   "cell_type": "code",
   "execution_count": 8,
   "metadata": {},
   "outputs": [
    {
     "data": {
      "text/plain": [
       "(0.59135648148148146, 0.024458333333333332, 0.997610617170659)"
      ]
     },
     "execution_count": 8,
     "metadata": {},
     "output_type": "execute_result"
    }
   ],
   "source": [
    "simulate(10*24*60*60)"
   ]
  },
  {
   "cell_type": "code",
   "execution_count": null,
   "metadata": {
    "collapsed": true
   },
   "outputs": [],
   "source": []
  },
  {
   "cell_type": "code",
   "execution_count": null,
   "metadata": {
    "collapsed": true
   },
   "outputs": [],
   "source": []
  }
 ],
 "metadata": {
  "kernelspec": {
   "display_name": "Python 3",
   "language": "python",
   "name": "python3"
  },
  "language_info": {
   "codemirror_mode": {
    "name": "ipython",
    "version": 3
   },
   "file_extension": ".py",
   "mimetype": "text/x-python",
   "name": "python",
   "nbconvert_exporter": "python",
   "pygments_lexer": "ipython3",
   "version": "3.6.2"
  }
 },
 "nbformat": 4,
 "nbformat_minor": 2
}
