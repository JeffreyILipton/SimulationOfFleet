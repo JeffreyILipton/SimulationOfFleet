{
 "cells": [
  {
   "cell_type": "code",
   "execution_count": 1,
   "metadata": {
    "collapsed": true
   },
   "outputs": [],
   "source": [
    "import numpy as np\n",
    "from functools import *\n",
    "from itertools import *\n",
    "from operator import *\n",
    "from random import *\n",
    "from multiprocessing import Pool\n",
    "from defs import *"
   ]
  },
  {
   "cell_type": "markdown",
   "metadata": {},
   "source": [
    "http://robotics.sciencemag.org/\n",
    "    \n",
    "http://www.sciencemag.org/journals/robotics/call-for-papers\n",
    "\n",
    "http://www.sciencemag.org/information-authors-2?_ga=2.235092801.1913050079.1534704804-5095294.1518029753\n"
   ]
  },
  {
   "cell_type": "markdown",
   "metadata": {},
   "source": [
    "https://stackoverflow.com/questions/20548628/how-to-do-parallel-programming-in-python\n",
    "\n",
    "https://github.com/ResearchComputing/jupyter-at-rc/wiki/Parallel-Programming-with-Jupyter-Notebooks\n",
    "\n",
    "https://stackoverflow.com/questions/47313732/jupyter-notebook-never-finishes-processing-using-multiprocessing-python-3/47374811#47374811"
   ]
  },
  {
   "cell_type": "code",
   "execution_count": 29,
   "metadata": {
    "collapsed": true
   },
   "outputs": [],
   "source": [
    "def getPoint(n_robots=3,p_robot=0.95,n_humans=1,p_human=0.95,n_runs=10):\n",
    "    time = 30*24*60*60\n",
    "    pool=Pool(10)\n",
    "    fun = partial(simulate,time,n_robots,n_humans,p_robot,p_human)\n",
    "    ans = pool.map(fun,[time]*n_runs)\n",
    "    x = np.array(ans)\n",
    "    y = np.array([[np.mean(x[:,0]), np.std(x[:,0])],[np.mean(x[:,1]), np.std(x[:,1])],[np.mean(x[:,2]), np.std(x[:,2])]])\n",
    "    return y"
   ]
  },
  {
   "cell_type": "code",
   "execution_count": 23,
   "metadata": {},
   "outputs": [
    {
     "data": {
      "text/plain": [
       "array([[  5.92314660e-01,   1.96295932e-03],\n",
       "       [  2.48122171e-02,   4.12806201e-04],\n",
       "       [  9.97530768e-01,   7.96188200e-05]])"
      ]
     },
     "execution_count": 23,
     "metadata": {},
     "output_type": "execute_result"
    }
   ],
   "source": [
    "getPoint()"
   ]
  },
  {
   "cell_type": "code",
   "execution_count": 24,
   "metadata": {},
   "outputs": [
    {
     "data": {
      "text/plain": [
       "array([[  5.92210775e-01,   2.40147032e-03],\n",
       "       [  2.47074228e-02,   5.37880762e-04],\n",
       "       [  9.97503902e-01,   8.94140052e-05]])"
      ]
     },
     "execution_count": 24,
     "metadata": {},
     "output_type": "execute_result"
    }
   ],
   "source": [
    "getPoint(n_runs = 100)"
   ]
  },
  {
   "cell_type": "code",
   "execution_count": 30,
   "metadata": {},
   "outputs": [
    {
     "data": {
      "text/plain": [
       "array([[  4.65790895e-03,   1.36830387e-04],\n",
       "       [  4.11775322e-01,   9.50867329e-04],\n",
       "       [  9.83538667e-01,   4.16578442e-04]])"
      ]
     },
     "execution_count": 30,
     "metadata": {},
     "output_type": "execute_result"
    }
   ],
   "source": [
    "getPoint(n_robots=3, p_robot=0.6, n_runs = 10)"
   ]
  },
  {
   "cell_type": "code",
   "execution_count": null,
   "metadata": {
    "collapsed": true
   },
   "outputs": [],
   "source": []
  }
 ],
 "metadata": {
  "kernelspec": {
   "display_name": "Python 3",
   "language": "python",
   "name": "python3"
  },
  "language_info": {
   "codemirror_mode": {
    "name": "ipython",
    "version": 3
   },
   "file_extension": ".py",
   "mimetype": "text/x-python",
   "name": "python",
   "nbconvert_exporter": "python",
   "pygments_lexer": "ipython3",
   "version": "3.6.2"
  }
 },
 "nbformat": 4,
 "nbformat_minor": 2
}
