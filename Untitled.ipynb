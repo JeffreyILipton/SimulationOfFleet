{
 "cells": [
  {
   "cell_type": "code",
   "execution_count": 1,
   "metadata": {
    "collapsed": true
   },
   "outputs": [],
   "source": [
    "import numpy as np\n",
    "from functools import *\n",
    "from itertools import *\n",
    "from operator import *\n",
    "from random import *\n",
    "from multiprocessing import Pool\n",
    "from defs import *"
   ]
  },
  {
   "cell_type": "markdown",
   "metadata": {},
   "source": [
    "https://stackoverflow.com/questions/20548628/how-to-do-parallel-programming-in-python\n",
    "\n",
    "https://github.com/ResearchComputing/jupyter-at-rc/wiki/Parallel-Programming-with-Jupyter-Notebooks\n",
    "\n",
    "https://stackoverflow.com/questions/47313732/jupyter-notebook-never-finishes-processing-using-multiprocessing-python-3/47374811#47374811"
   ]
  },
  {
   "cell_type": "code",
   "execution_count": 2,
   "metadata": {
    "collapsed": true
   },
   "outputs": [],
   "source": [
    "pool=Pool()"
   ]
  },
  {
   "cell_type": "code",
   "execution_count": 3,
   "metadata": {
    "collapsed": true
   },
   "outputs": [],
   "source": []
  },
  {
   "cell_type": "code",
   "execution_count": 4,
   "metadata": {
    "collapsed": true
   },
   "outputs": [],
   "source": [
    "n_runs = 10\n",
    "ans = pool.map(simulate,[time]*10)"
   ]
  },
  {
   "cell_type": "code",
   "execution_count": 5,
   "metadata": {},
   "outputs": [
    {
     "data": {
      "text/plain": [
       "[(0.59126234567901237, 0.02500025720164609, 0.9976041016392685),\n",
       " (0.59182716049382711, 0.024689814814814814, 0.9974248753576161),\n",
       " (0.59097993827160489, 0.024599922839506173, 0.9975547298799305),\n",
       " (0.58884799382716047, 0.024589120370370369, 0.9973072844888607),\n",
       " (0.59400617283950619, 0.024744727366255145, 0.9975829977188818),\n",
       " (0.59218016975308641, 0.02507227366255144, 0.9976439843548998),\n",
       " (0.59167631172839508, 0.0246752829218107, 0.997537976638198),\n",
       " (0.59154475308641974, 0.024842978395061728, 0.9974568605521502),\n",
       " (0.5890605709876543, 0.025652520576131686, 0.9974750465845238),\n",
       " (0.59203896604938266, 0.025039094650205762, 0.9975157322530663)]"
      ]
     },
     "execution_count": 5,
     "metadata": {},
     "output_type": "execute_result"
    }
   ],
   "source": [
    "ans"
   ]
  },
  {
   "cell_type": "code",
   "execution_count": 7,
   "metadata": {},
   "outputs": [],
   "source": [
    "x=np.array(ans)"
   ]
  },
  {
   "cell_type": "code",
   "execution_count": 13,
   "metadata": {},
   "outputs": [],
   "source": [
    "y = np.array([[np.mean(x[:,0]), np.std(x[:,0])],[np.mean(x[:,1]), np.std(x[:,1])],[np.mean(x[:,2]), np.std(x[:,2])]])"
   ]
  },
  {
   "cell_type": "code",
   "execution_count": 14,
   "metadata": {},
   "outputs": [
    {
     "data": {
      "text/plain": [
       "array([[  5.91342438e-01,   1.42256029e-03],\n",
       "       [  2.48905993e-02,   3.05484796e-04],\n",
       "       [  9.97510359e-01,   9.34537013e-05]])"
      ]
     },
     "execution_count": 14,
     "metadata": {},
     "output_type": "execute_result"
    }
   ],
   "source": [
    "y"
   ]
  },
  {
   "cell_type": "code",
   "execution_count": 15,
   "metadata": {
    "collapsed": true
   },
   "outputs": [],
   "source": [
    "def getPoint(n_robot=3,p_robot=0.95,n_human=1,p_human=0.95,n_runs=10):\n",
    "    time = 30*24*60*60\n",
    "    pool=Pool()\n",
    "    ans = pool.map(simulate,[time]*10)\n",
    "    x = np.array(ans)\n",
    "    y = np.array([[np.mean(x[:,0]), np.std(x[:,0])],[np.mean(x[:,1]), np.std(x[:,1])],[np.mean(x[:,2]), np.std(x[:,2])]])\n",
    "    return y"
   ]
  },
  {
   "cell_type": "code",
   "execution_count": 16,
   "metadata": {},
   "outputs": [
    {
     "data": {
      "text/plain": [
       "array([[  5.90411690e-01,   2.85545974e-03],\n",
       "       [  2.49464506e-02,   5.05018547e-04],\n",
       "       [  9.97509545e-01,   8.45766720e-05]])"
      ]
     },
     "execution_count": 16,
     "metadata": {},
     "output_type": "execute_result"
    }
   ],
   "source": [
    "getPoint()"
   ]
  },
  {
   "cell_type": "code",
   "execution_count": null,
   "metadata": {
    "collapsed": true
   },
   "outputs": [],
   "source": [
    "getPoint(n_runs = 100)"
   ]
  },
  {
   "cell_type": "code",
   "execution_count": null,
   "metadata": {
    "collapsed": true
   },
   "outputs": [],
   "source": []
  }
 ],
 "metadata": {
  "kernelspec": {
   "display_name": "Python 3",
   "language": "python",
   "name": "python3"
  },
  "language_info": {
   "codemirror_mode": {
    "name": "ipython",
    "version": 3
   },
   "file_extension": ".py",
   "mimetype": "text/x-python",
   "name": "python",
   "nbconvert_exporter": "python",
   "pygments_lexer": "ipython3",
   "version": "3.6.2"
  }
 },
 "nbformat": 4,
 "nbformat_minor": 2
}
