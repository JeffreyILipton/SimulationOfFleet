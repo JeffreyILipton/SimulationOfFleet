{
 "cells": [
  {
   "cell_type": "code",
   "execution_count": 1,
   "metadata": {
    "collapsed": true
   },
   "outputs": [],
   "source": [
    "import numpy as np\n",
    "from functools import *\n",
    "from itertools import *\n",
    "from operator import *\n",
    "from random import *\n",
    "from multiprocessing import Pool\n",
    "from defs import *\n",
    "import csv"
   ]
  },
  {
   "cell_type": "markdown",
   "metadata": {},
   "source": [
    "http://robotics.sciencemag.org/\n",
    "    \n",
    "http://www.sciencemag.org/journals/robotics/call-for-papers\n",
    "\n",
    "http://www.sciencemag.org/information-authors-2?_ga=2.235092801.1913050079.1534704804-5095294.1518029753\n"
   ]
  },
  {
   "cell_type": "markdown",
   "metadata": {},
   "source": [
    "https://stackoverflow.com/questions/20548628/how-to-do-parallel-programming-in-python\n",
    "\n",
    "https://github.com/ResearchComputing/jupyter-at-rc/wiki/Parallel-Programming-with-Jupyter-Notebooks\n",
    "\n",
    "https://stackoverflow.com/questions/47313732/jupyter-notebook-never-finishes-processing-using-multiprocessing-python-3/47374811#47374811"
   ]
  },
  {
   "cell_type": "code",
   "execution_count": 2,
   "metadata": {
    "collapsed": true
   },
   "outputs": [],
   "source": [
    "def getPoint(n_robots=3,p_robot=0.95,n_humans=1,p_human=0.95,n_runs=10):\n",
    "    time = 30*24*60*60\n",
    "    pool=Pool(10)\n",
    "    fun = partial(simulate,time,n_robots,n_humans,p_robot,p_human)\n",
    "    ans = pool.map(fun,[time]*n_runs)\n",
    "    x = np.array(ans)\n",
    "    y = np.array([[np.mean(x[:,0]), np.std(x[:,0])],[np.mean(x[:,1]), np.std(x[:,1])],[np.mean(x[:,2]), np.std(x[:,2])]])\n",
    "    return y"
   ]
  },
  {
   "cell_type": "code",
   "execution_count": null,
   "metadata": {},
   "outputs": [],
   "source": [
    "getPoint()"
   ]
  },
  {
   "cell_type": "code",
   "execution_count": null,
   "metadata": {},
   "outputs": [],
   "source": [
    "getPoint(n_runs = 100)"
   ]
  },
  {
   "cell_type": "code",
   "execution_count": null,
   "metadata": {},
   "outputs": [],
   "source": [
    "getPoint(n_robots=3, p_robot=0.6, n_runs = 10)"
   ]
  },
  {
   "cell_type": "code",
   "execution_count": null,
   "metadata": {},
   "outputs": [
    {
     "name": "stdout",
     "output_type": "stream",
     "text": [
      "1\tNum Humans: 1\tNum Robots:1\tp_robot:0.5\n",
      "2\tNum Humans: 1\tNum Robots:1\tp_robot:0.68\n",
      "3\tNum Humans: 1\tNum Robots:1\tp_robot:0.8\n",
      "4\tNum Humans: 1\tNum Robots:1\tp_robot:0.9\n",
      "5\tNum Humans: 1\tNum Robots:1\tp_robot:0.95\n",
      "6\tNum Humans: 1\tNum Robots:1\tp_robot:0.99\n",
      "7\tNum Humans: 1\tNum Robots:1\tp_robot:0.997\n",
      "8\tNum Humans: 1\tNum Robots:1\tp_robot:0.99994\n",
      "9\tNum Humans: 2\tNum Robots:1\tp_robot:0.5\n",
      "10\tNum Humans: 2\tNum Robots:1\tp_robot:0.68\n",
      "11\tNum Humans: 2\tNum Robots:1\tp_robot:0.8\n",
      "12\tNum Humans: 2\tNum Robots:1\tp_robot:0.9\n",
      "13\tNum Humans: 2\tNum Robots:1\tp_robot:0.95\n",
      "14\tNum Humans: 2\tNum Robots:1\tp_robot:0.99\n",
      "15\tNum Humans: 2\tNum Robots:1\tp_robot:0.997\n",
      "16\tNum Humans: 2\tNum Robots:1\tp_robot:0.99994\n",
      "17\tNum Humans: 3\tNum Robots:1\tp_robot:0.5\n",
      "18\tNum Humans: 3\tNum Robots:1\tp_robot:0.68\n",
      "19\tNum Humans: 3\tNum Robots:1\tp_robot:0.8\n",
      "20\tNum Humans: 3\tNum Robots:1\tp_robot:0.9\n",
      "21\tNum Humans: 3\tNum Robots:1\tp_robot:0.95\n",
      "22\tNum Humans: 3\tNum Robots:1\tp_robot:0.99\n",
      "23\tNum Humans: 3\tNum Robots:1\tp_robot:0.997\n",
      "24\tNum Humans: 3\tNum Robots:1\tp_robot:0.99994\n",
      "25\tNum Humans: 1\tNum Robots:2\tp_robot:0.5\n",
      "26\tNum Humans: 1\tNum Robots:2\tp_robot:0.68\n",
      "27\tNum Humans: 1\tNum Robots:2\tp_robot:0.8\n",
      "28\tNum Humans: 1\tNum Robots:2\tp_robot:0.9\n",
      "29\tNum Humans: 1\tNum Robots:2\tp_robot:0.95\n",
      "30\tNum Humans: 1\tNum Robots:2\tp_robot:0.99\n",
      "31\tNum Humans: 1\tNum Robots:2\tp_robot:0.997\n",
      "32\tNum Humans: 1\tNum Robots:2\tp_robot:0.99994\n",
      "33\tNum Humans: 2\tNum Robots:2\tp_robot:0.5\n",
      "34\tNum Humans: 2\tNum Robots:2\tp_robot:0.68\n",
      "35\tNum Humans: 2\tNum Robots:2\tp_robot:0.8\n",
      "36\tNum Humans: 2\tNum Robots:2\tp_robot:0.9\n",
      "37\tNum Humans: 2\tNum Robots:2\tp_robot:0.95\n",
      "38\tNum Humans: 2\tNum Robots:2\tp_robot:0.99\n",
      "39\tNum Humans: 2\tNum Robots:2\tp_robot:0.997\n",
      "40\tNum Humans: 2\tNum Robots:2\tp_robot:0.99994\n",
      "41\tNum Humans: 3\tNum Robots:2\tp_robot:0.5\n",
      "42\tNum Humans: 3\tNum Robots:2\tp_robot:0.68\n",
      "43\tNum Humans: 3\tNum Robots:2\tp_robot:0.8\n",
      "44\tNum Humans: 3\tNum Robots:2\tp_robot:0.9\n",
      "45\tNum Humans: 3\tNum Robots:2\tp_robot:0.95\n",
      "46\tNum Humans: 3\tNum Robots:2\tp_robot:0.99\n",
      "47\tNum Humans: 3\tNum Robots:2\tp_robot:0.997\n",
      "48\tNum Humans: 3\tNum Robots:2\tp_robot:0.99994\n",
      "49\tNum Humans: 1\tNum Robots:3\tp_robot:0.5\n",
      "50\tNum Humans: 1\tNum Robots:3\tp_robot:0.68\n",
      "51\tNum Humans: 1\tNum Robots:3\tp_robot:0.8\n",
      "52\tNum Humans: 1\tNum Robots:3\tp_robot:0.9\n",
      "53\tNum Humans: 1\tNum Robots:3\tp_robot:0.95\n",
      "54\tNum Humans: 1\tNum Robots:3\tp_robot:0.99\n",
      "55\tNum Humans: 1\tNum Robots:3\tp_robot:0.997\n",
      "56\tNum Humans: 1\tNum Robots:3\tp_robot:0.99994\n",
      "57\tNum Humans: 2\tNum Robots:3\tp_robot:0.5\n",
      "58\tNum Humans: 2\tNum Robots:3\tp_robot:0.68\n",
      "59\tNum Humans: 2\tNum Robots:3\tp_robot:0.8\n",
      "60\tNum Humans: 2\tNum Robots:3\tp_robot:0.9\n",
      "61\tNum Humans: 2\tNum Robots:3\tp_robot:0.95\n",
      "62\tNum Humans: 2\tNum Robots:3\tp_robot:0.99\n",
      "63\tNum Humans: 2\tNum Robots:3\tp_robot:0.997\n",
      "64\tNum Humans: 2\tNum Robots:3\tp_robot:0.99994\n",
      "65\tNum Humans: 3\tNum Robots:3\tp_robot:0.5\n",
      "66\tNum Humans: 3\tNum Robots:3\tp_robot:0.68\n",
      "67\tNum Humans: 3\tNum Robots:3\tp_robot:0.8\n",
      "68\tNum Humans: 3\tNum Robots:3\tp_robot:0.9\n",
      "69\tNum Humans: 3\tNum Robots:3\tp_robot:0.95\n",
      "70\tNum Humans: 3\tNum Robots:3\tp_robot:0.99\n",
      "71\tNum Humans: 3\tNum Robots:3\tp_robot:0.997\n",
      "72\tNum Humans: 3\tNum Robots:3\tp_robot:0.99994\n",
      "73\tNum Humans: 1\tNum Robots:4\tp_robot:0.5\n",
      "74\tNum Humans: 1\tNum Robots:4\tp_robot:0.68\n",
      "75\tNum Humans: 1\tNum Robots:4\tp_robot:0.8\n",
      "76\tNum Humans: 1\tNum Robots:4\tp_robot:0.9\n",
      "77\tNum Humans: 1\tNum Robots:4\tp_robot:0.95\n",
      "78\tNum Humans: 1\tNum Robots:4\tp_robot:0.99\n",
      "79\tNum Humans: 1\tNum Robots:4\tp_robot:0.997\n",
      "80\tNum Humans: 1\tNum Robots:4\tp_robot:0.99994\n",
      "81\tNum Humans: 2\tNum Robots:4\tp_robot:0.5\n",
      "82\tNum Humans: 2\tNum Robots:4\tp_robot:0.68\n",
      "83\tNum Humans: 2\tNum Robots:4\tp_robot:0.8\n",
      "84\tNum Humans: 2\tNum Robots:4\tp_robot:0.9\n"
     ]
    }
   ],
   "source": [
    "\n",
    "i=0\n",
    "start_on=0\n",
    "run=4\n",
    "with open(f'data{run}.csv',mode='w',newline='') as csv_file:\n",
    "    fieldnames = ['n_humans','n_robots','p_robot','mean Human Down',' stdev human down','mean robot Down',' stdev robot down','Success rate','stdev successrate']\n",
    "    writer = csv.writer(csv_file,delimiter=',')\n",
    "    writer.writerow(fieldnames)\n",
    "    #n_humans = 1\n",
    "    #n_robots = 1#3\n",
    "    #p_robot  = 0.6\n",
    "    ns_of_robots = range(1,11)\n",
    "    ns_of_humans = range(1,4)\n",
    "        #[0.6,1   ,1.2,1.6,1.96,2.58,3    ,4]\n",
    "    ps = [0.5,0.68,0.8,0.9,0.95,0.99,0.997,0.99994]\n",
    "    \n",
    "    for n_robots in ns_of_robots:\n",
    "        for n_humans in ns_of_humans:\n",
    "            for p_robot in ps:\n",
    "                i+=1\n",
    "                if i>=start_on:\n",
    "                    data = getPoint(n_robots, p_robot,n_humans, n_runs = 10)\n",
    "                    row = [n_humans,n_robots,p_robot,data[0,0],data[0,1],data[1,0],data[1,1],data[2,0],data[2,1]]\n",
    "                    writer.writerow(row)\n",
    "                    print(f'{i}\\tNum Humans: {n_humans}\\tNum Robots:{n_robots}\\tp_robot:{p_robot}')\n",
    "\n",
    "    "
   ]
  },
  {
   "cell_type": "code",
   "execution_count": null,
   "metadata": {
    "collapsed": true
   },
   "outputs": [],
   "source": []
  }
 ],
 "metadata": {
  "kernelspec": {
   "display_name": "Python 3",
   "language": "python",
   "name": "python3"
  },
  "language_info": {
   "codemirror_mode": {
    "name": "ipython",
    "version": 3
   },
   "file_extension": ".py",
   "mimetype": "text/x-python",
   "name": "python",
   "nbconvert_exporter": "python",
   "pygments_lexer": "ipython3",
   "version": "3.6.2"
  }
 },
 "nbformat": 4,
 "nbformat_minor": 2
}
