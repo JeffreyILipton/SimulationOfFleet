{
 "cells": [
  {
   "cell_type": "code",
   "execution_count": 1,
   "metadata": {
    "collapsed": true
   },
   "outputs": [],
   "source": [
    "import numpy as np\n",
    "from functools import *\n",
    "from itertools import *\n",
    "from operator import *\n",
    "from random import *"
   ]
  },
  {
   "cell_type": "code",
   "execution_count": 2,
   "metadata": {},
   "outputs": [],
   "source": [
    "def rand(percent):\n",
    "    '''Returns A percent% of the time'''\n",
    "    r = random()\n",
    "    if(r>percent):\n",
    "        return False\n",
    "    return True"
   ]
  },
  {
   "cell_type": "code",
   "execution_count": null,
   "metadata": {},
   "outputs": [],
   "source": [
    "class agent:\n",
    "    def __init__(self,numtime,mu,sigma,successrate):\n",
    "        self.history = np.zeros((numtime))\n",
    "        self.calcSuccess = partial(rand,successrate)\n",
    "        self.calcTime=lambda: int(np.random.normal(mu,sigma))\n",
    "        self.countdown = self.calcTime()\n",
    "        self.time = 0\n",
    "    \n",
    "    def timeStep(self):\n",
    "        self.countdown-=1\n",
    "        self.time+=1\n",
    "        #print(f'{self.time}:{self.countdown}')\n",
    "        if self.countdown ==0:\n",
    "            if self.calcSuccess():\n",
    "                self.countdown = self.calcTime()\n",
    "            #else: print('failed')\n",
    "    \n",
    "    def updateHistory(self):\n",
    "        if self.countdown <0:\n",
    "            self.history[self.time-1] = 1\n",
    "    \n",
    "    "
   ]
  },
  {
   "cell_type": "code",
   "execution_count": null,
   "metadata": {},
   "outputs": [],
   "source": [
    "x= agent(100,20,10,0.68)\n",
    "for i in range(0,100):\n",
    "    x.timeStep()\n",
    "    x.updateHistory()\n"
   ]
  },
  {
   "cell_type": "code",
   "execution_count": 5,
   "metadata": {},
   "outputs": [],
   "source": [
    "class Agent:\n",
    "    def __init__(self,idnum,numtime,successrate,debug=False):\n",
    "        # This is the history of the agent being idle\n",
    "        self.Debug = debug\n",
    "        self.idnum=idnum\n",
    "        self.history = np.zeros((numtime))\n",
    "        # This function calculates if the agent was sucessful of the task\n",
    "        self.calcSuccess = partial(rand,successrate)\n",
    "        # initialize the times\n",
    "        self.countdown = 0\n",
    "        self.time = 0\n",
    "        self.successCount = 0\n",
    "        self.failCount = 0\n",
    "    \n",
    "    def timeStep(self):\n",
    "        self.countdown-=1\n",
    "        self.time+=1\n",
    "        #if self.Debug: print(f'{self.time}:{self.countdown}')\n",
    "    \n",
    "    def updateHistory(self):\n",
    "        # if done with task record idle time\n",
    "        if self.countdown <0:\n",
    "            self.history[self.time-1] = 1\n",
    "            \n",
    "            \n",
    "class Robot(Agent):\n",
    "    def __init__(self,idnum,numtime,successrate,mu,sigma,mintime,debug=False):\n",
    "        Agent.__init__(self,idnum,numtime,successrate,debug)\n",
    "        self.calcTime=lambda: int(max(mintime,np.random.normal(mu,sigma)))\n",
    "        self.countdown = self.calcTime()\n",
    "        self.auto = True\n",
    "        \n",
    "    \n",
    "    def setAuto(self,auto):\n",
    "        self.auto = auto\n",
    "        if self.auto:\n",
    "            self.countdown = self.calcTime()\n",
    "        \n",
    "    def timeStep(self):\n",
    "        Agent.timeStep(self)\n",
    "        if self.countdown ==0:\n",
    "            if self.calcSuccess():\n",
    "                self.countdown = self.calcTime()\n",
    "                self.successCount+=1\n",
    "            else:\n",
    "                self.failCount+=1\n",
    "        if self.Debug: print(f'Robot State\\tCount:{self.countdown}\\tAuto:{self.auto}')\n",
    "    \n",
    "    def updateHistory(self):\n",
    "        # if done with task record idle time\n",
    "        if self.countdown <0 and (True == self.auto):\n",
    "            self.history[self.time-1] = 1\n",
    "            \n",
    "            \n",
    "class Human(Agent):\n",
    "    def __init__(self,idnum,numtime,successrate,successTime,robot=None,debug=False):\n",
    "        Agent.__init__(self,idnum,numtime,successrate,debug)\n",
    "        self.calcTime=lambda: int(successTime)\n",
    "        self.robot = robot\n",
    "        self.robot_history = np.zeros((numtime))\n",
    "\n",
    "    def setRobot(self,robot):\n",
    "        self.robot = robot\n",
    "        if self.robot !=None: self.robot.setAuto(False)\n",
    "        \n",
    "    def timeStep(self):\n",
    "        Agent.timeStep(self)\n",
    "        if self.countdown <0 and self.robot !=None:\n",
    "            self.countdown = self.calcTime()\n",
    "            self.robot.countdown = self.countdown\n",
    "            if self.Debug: print(f'Human Attempt: {self.countdown}')\n",
    "        if self.countdown ==0 and self.robot !=None:\n",
    "            result = self.calcSuccess()\n",
    "            if result: \n",
    "                self.successCount+=1\n",
    "                self.robot.setAuto(True)\n",
    "                self.setRobot(None)\n",
    "            else: \n",
    "                self.failCount+=1\n",
    "            if self.Debug: print(f'Human {result}')\n",
    "        rid = 0\n",
    "        if self.robot !=None: rid=self.robot.idnum\n",
    "        self.robot_history[self.time-1]=rid\n",
    "            "
   ]
  },
  {
   "cell_type": "code",
   "execution_count": null,
   "metadata": {},
   "outputs": [],
   "source": [
    "x= Human(1,100,0.95,60,None,True)\n",
    "for i in range(0,100):\n",
    "    x.timeStep()\n",
    "    x.updateHistory()\n",
    "x.history"
   ]
  },
  {
   "cell_type": "code",
   "execution_count": null,
   "metadata": {},
   "outputs": [],
   "source": [
    "x= Robot(1,100,0.5,20,10,5,True)\n",
    "for i in range(0,100):\n",
    "    x.timeStep()\n",
    "    x.updateHistory()\n",
    "print(x.history)\n",
    "print(x.successCount)\n",
    "print(x.failCount)"
   ]
  },
  {
   "cell_type": "code",
   "execution_count": 6,
   "metadata": {
    "collapsed": true
   },
   "outputs": [],
   "source": [
    "def processTimeStep(Robots,Humans,Debug=False):\n",
    "    pausedBots=[]\n",
    "    for robot in Robots:\n",
    "        robot.timeStep()\n",
    "        if robot.countdown<0: pausedBots.append(robot)\n",
    "    if Debug:\n",
    "        nbots = len(pausedBots)\n",
    "        print(f'Number Paused: {nbots}')\n",
    "    for human in Humans:\n",
    "        if len(pausedBots)>0 :\n",
    "            if None == human.robot:\n",
    "                bot = pausedBots.pop(0)\n",
    "                human.setRobot(bot)\n",
    "        human.timeStep()\n",
    "        if Debug:\n",
    "            exists = (human.robot !=None)\n",
    "            print(f'{exists}')\n",
    "    agents = Robots+Humans\n",
    "    for agent in agents:\n",
    "        agent.updateHistory()\n",
    "\n",
    "            "
   ]
  },
  {
   "cell_type": "code",
   "execution_count": null,
   "metadata": {},
   "outputs": [],
   "source": [
    "n_sec = 1000\n",
    "p_robot = 0.95\n",
    "mu = 20\n",
    "sigma=10\n",
    "mintime = 5\n",
    "Robots = [Robot(1,n_sec,p_robot,mu,sigma,mintime),Robot(2,n_sec,p_robot,mu,sigma,mintime),Robot(3,n_sec,p_robot,mu,sigma,mintime)]\n",
    "Humans = [Human(1,n_sec,0.95,60,None,False)]\n",
    "Agents = Robots+Humans\n",
    "\n",
    "for i in range(0,n_sec):\n",
    "    processTimeStep(Robots,Humans)\n"
   ]
  },
  {
   "cell_type": "code",
   "execution_count": null,
   "metadata": {},
   "outputs": [],
   "source": [
    "for human in Humans:\n",
    "    print(human.history)\n",
    "    print(human.successCount)\n",
    "    print(human.robot_history)"
   ]
  },
  {
   "cell_type": "code",
   "execution_count": null,
   "metadata": {},
   "outputs": [],
   "source": [
    "for robot in Robots:\n",
    "    print(robot.idnum)\n",
    "    print(robot.history)\n",
    "    "
   ]
  },
  {
   "cell_type": "code",
   "execution_count": 8,
   "metadata": {},
   "outputs": [],
   "source": [
    "\n",
    "def calcPercentage(group):\n",
    "    n_sec = group[0].history.size\n",
    "    hist  = np.zeros((n_sec))\n",
    "    for item in group:\n",
    "        hist = hist + item.history\n",
    "    p = np.sum(hist)/(len(group)*hist.size)\n",
    "    return p\n",
    "\n"
   ]
  },
  {
   "cell_type": "code",
   "execution_count": null,
   "metadata": {
    "collapsed": true
   },
   "outputs": [],
   "source": [
    "p_human = calcPercentage(Humans)\n",
    "p_robot = calcPercentage(Robots)\n",
    "\n",
    "print(f'human down {p_human}, and robots down {p_robot}')\n",
    "    \n"
   ]
  },
  {
   "cell_type": "code",
   "execution_count": 9,
   "metadata": {
    "collapsed": true
   },
   "outputs": [],
   "source": [
    "def simulate(n_sec = 1000,nrobot=3,nhuman=1):\n",
    "    \n",
    "    p_robot = 0.95\n",
    "    mu = 20\n",
    "    sigma=10\n",
    "    mintime = 5\n",
    "    \n",
    "    p_human = 0.95\n",
    "    e_human = 60\n",
    "    \n",
    "    Debug = False\n",
    "    Robots=[]\n",
    "    Humans = []\n",
    "    for i in range(0,nrobot):\n",
    "        Robots.append(Robot(1+i,n_sec,p_robot,mu,sigma,mintime))\n",
    "    for i in range(0,nhuman):\n",
    "        Humans.append(Human(1+i,n_sec,p_human,e_human,None,Debug))\n",
    "\n",
    "    for i in range(0,n_sec):\n",
    "        processTimeStep(Robots,Humans)\n",
    "\n",
    "    p_human_down = calcPercentage(Humans)\n",
    "    p_robot_down = calcPercentage(Robots)\n",
    "    \n",
    "    print(f'human down {p_human_down}, and robots down {p_robot_down}')"
   ]
  },
  {
   "cell_type": "code",
   "execution_count": 12,
   "metadata": {},
   "outputs": [
    {
     "name": "stdout",
     "output_type": "stream",
     "text": [
      "human down 0.756, and robots down 0.018\n"
     ]
    }
   ],
   "source": [
    "simulate()"
   ]
  },
  {
   "cell_type": "code",
   "execution_count": null,
   "metadata": {},
   "outputs": [],
   "source": []
  },
  {
   "cell_type": "code",
   "execution_count": null,
   "metadata": {
    "collapsed": true
   },
   "outputs": [],
   "source": []
  }
 ],
 "metadata": {
  "kernelspec": {
   "display_name": "Python 3",
   "language": "python",
   "name": "python3"
  },
  "language_info": {
   "codemirror_mode": {
    "name": "ipython",
    "version": 3
   },
   "file_extension": ".py",
   "mimetype": "text/x-python",
   "name": "python",
   "nbconvert_exporter": "python",
   "pygments_lexer": "ipython3",
   "version": "3.6.2"
  }
 },
 "nbformat": 4,
 "nbformat_minor": 2
}
