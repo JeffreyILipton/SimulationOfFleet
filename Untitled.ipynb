{
 "cells": [
  {
   "cell_type": "code",
   "execution_count": 2,
   "metadata": {
    "collapsed": true
   },
   "outputs": [],
   "source": [
    "import numpy as np\n",
    "from functools import *\n",
    "from itertools import *\n",
    "from operator import *\n",
    "from random import *\n",
    "from multiprocessing import Pool\n",
    "from defs import *\n",
    "import csv"
   ]
  },
  {
   "cell_type": "markdown",
   "metadata": {},
   "source": [
    "http://robotics.sciencemag.org/\n",
    "    \n",
    "http://www.sciencemag.org/journals/robotics/call-for-papers\n",
    "\n",
    "http://www.sciencemag.org/information-authors-2?_ga=2.235092801.1913050079.1534704804-5095294.1518029753\n"
   ]
  },
  {
   "cell_type": "markdown",
   "metadata": {},
   "source": [
    "https://stackoverflow.com/questions/20548628/how-to-do-parallel-programming-in-python\n",
    "\n",
    "https://github.com/ResearchComputing/jupyter-at-rc/wiki/Parallel-Programming-with-Jupyter-Notebooks\n",
    "\n",
    "https://stackoverflow.com/questions/47313732/jupyter-notebook-never-finishes-processing-using-multiprocessing-python-3/47374811#47374811"
   ]
  },
  {
   "cell_type": "code",
   "execution_count": 3,
   "metadata": {
    "collapsed": true
   },
   "outputs": [],
   "source": [
    "def getPoint(n_robots=3,p_robot=0.95,n_humans=1,p_human=0.95,n_runs=10):\n",
    "    time = 30*24*60*60\n",
    "    pool=Pool(10)\n",
    "    fun = partial(simulate,time,n_robots,n_humans,p_robot,p_human)\n",
    "    ans = pool.map(fun,[time]*n_runs)\n",
    "    x = np.array(ans)\n",
    "    #print(x)\n",
    "    y = np.array([[np.mean(x[:,0]), np.std(x[:,0])],[np.mean(x[:,1]), np.std(x[:,1])],[np.mean(x[:,2]), np.std(x[:,2])],[np.mean(x[:,3]), np.std(x[:,3])]])\n",
    "    return y"
   ]
  },
  {
   "cell_type": "code",
   "execution_count": 11,
   "metadata": {},
   "outputs": [
    {
     "name": "stdout",
     "output_type": "stream",
     "text": [
      "[[  5.92118056e-01   2.52031893e-02   9.97534853e-01   3.46024000e+05]\n",
      " [  5.87214506e-01   2.59027778e-02   9.97447210e-01   3.45896000e+05]\n",
      " [  5.91238812e-01   2.53860597e-02   9.97502349e-01   3.45925000e+05]\n",
      " [  5.92759259e-01   2.49764660e-02   9.97486466e-01   3.46524000e+05]\n",
      " [  5.94415895e-01   2.49850823e-02   9.97473662e-01   3.46747000e+05]\n",
      " [  5.91191744e-01   2.46168981e-02   9.97476687e-01   3.46370000e+05]\n",
      " [  5.90673997e-01   2.50362654e-02   9.97558671e-01   3.46123000e+05]\n",
      " [  5.92597608e-01   2.44969136e-02   9.97502209e-01   3.46306000e+05]\n",
      " [  5.94392361e-01   2.36093107e-02   9.97454495e-01   3.46886000e+05]\n",
      " [  5.90250386e-01   2.52231224e-02   9.97342346e-01   3.46170000e+05]]\n"
     ]
    },
    {
     "data": {
      "text/plain": [
       "array([[  5.91685262e-01,   2.01171471e-03],\n",
       "       [  2.49436085e-02,   5.79593875e-04],\n",
       "       [  9.97477895e-01,   5.56000382e-05],\n",
       "       [  3.46297100e+05,   3.20387094e+02]])"
      ]
     },
     "execution_count": 11,
     "metadata": {},
     "output_type": "execute_result"
    }
   ],
   "source": [
    "getPoint()"
   ]
  },
  {
   "cell_type": "code",
   "execution_count": null,
   "metadata": {
    "collapsed": true
   },
   "outputs": [],
   "source": [
    "getPoint(n_runs = 100)"
   ]
  },
  {
   "cell_type": "code",
   "execution_count": null,
   "metadata": {
    "collapsed": true
   },
   "outputs": [],
   "source": [
    "getPoint(n_robots=3, p_robot=0.6, n_runs = 10)"
   ]
  },
  {
   "cell_type": "code",
   "execution_count": 5,
   "metadata": {},
   "outputs": [
    {
     "name": "stdout",
     "output_type": "stream",
     "text": [
      "1:0.00\tNum Humans: 1\tNum Robots:11\tp_robot:0.5\n",
      "2:0.01\tNum Humans: 1\tNum Robots:11\tp_robot:0.68\n",
      "3:0.01\tNum Humans: 1\tNum Robots:11\tp_robot:0.8\n",
      "4:0.01\tNum Humans: 1\tNum Robots:11\tp_robot:0.9\n",
      "5:0.02\tNum Humans: 1\tNum Robots:11\tp_robot:0.95\n",
      "6:0.02\tNum Humans: 1\tNum Robots:11\tp_robot:0.99\n",
      "7:0.02\tNum Humans: 1\tNum Robots:11\tp_robot:0.997\n",
      "8:0.03\tNum Humans: 1\tNum Robots:11\tp_robot:0.99994\n",
      "9:0.03\tNum Humans: 1\tNum Robots:12\tp_robot:0.5\n",
      "10:0.03\tNum Humans: 1\tNum Robots:12\tp_robot:0.68\n",
      "11:0.04\tNum Humans: 1\tNum Robots:12\tp_robot:0.8\n",
      "12:0.04\tNum Humans: 1\tNum Robots:12\tp_robot:0.9\n",
      "13:0.04\tNum Humans: 1\tNum Robots:12\tp_robot:0.95\n",
      "14:0.04\tNum Humans: 1\tNum Robots:12\tp_robot:0.99\n",
      "15:0.05\tNum Humans: 1\tNum Robots:12\tp_robot:0.997\n",
      "16:0.05\tNum Humans: 1\tNum Robots:12\tp_robot:0.99994\n",
      "17:0.05\tNum Humans: 1\tNum Robots:13\tp_robot:0.5\n",
      "18:0.06\tNum Humans: 1\tNum Robots:13\tp_robot:0.68\n",
      "19:0.06\tNum Humans: 1\tNum Robots:13\tp_robot:0.8\n",
      "20:0.06\tNum Humans: 1\tNum Robots:13\tp_robot:0.9\n",
      "21:0.07\tNum Humans: 1\tNum Robots:13\tp_robot:0.95\n",
      "22:0.07\tNum Humans: 1\tNum Robots:13\tp_robot:0.99\n",
      "23:0.07\tNum Humans: 1\tNum Robots:13\tp_robot:0.997\n",
      "24:0.08\tNum Humans: 1\tNum Robots:13\tp_robot:0.99994\n",
      "25:0.08\tNum Humans: 1\tNum Robots:14\tp_robot:0.5\n",
      "26:0.08\tNum Humans: 1\tNum Robots:14\tp_robot:0.68\n",
      "27:0.09\tNum Humans: 1\tNum Robots:14\tp_robot:0.8\n",
      "28:0.09\tNum Humans: 1\tNum Robots:14\tp_robot:0.9\n",
      "29:0.09\tNum Humans: 1\tNum Robots:14\tp_robot:0.95\n",
      "30:0.10\tNum Humans: 1\tNum Robots:14\tp_robot:0.99\n",
      "31:0.10\tNum Humans: 1\tNum Robots:14\tp_robot:0.997\n",
      "32:0.10\tNum Humans: 1\tNum Robots:14\tp_robot:0.99994\n",
      "33:0.11\tNum Humans: 1\tNum Robots:15\tp_robot:0.5\n",
      "34:0.11\tNum Humans: 1\tNum Robots:15\tp_robot:0.68\n",
      "35:0.11\tNum Humans: 1\tNum Robots:15\tp_robot:0.8\n",
      "36:0.12\tNum Humans: 1\tNum Robots:15\tp_robot:0.9\n",
      "37:0.12\tNum Humans: 1\tNum Robots:15\tp_robot:0.95\n",
      "38:0.12\tNum Humans: 1\tNum Robots:15\tp_robot:0.99\n",
      "39:0.12\tNum Humans: 1\tNum Robots:15\tp_robot:0.997\n",
      "40:0.13\tNum Humans: 1\tNum Robots:15\tp_robot:0.99994\n",
      "41:0.13\tNum Humans: 1\tNum Robots:16\tp_robot:0.5\n",
      "42:0.13\tNum Humans: 1\tNum Robots:16\tp_robot:0.68\n",
      "43:0.14\tNum Humans: 1\tNum Robots:16\tp_robot:0.8\n",
      "44:0.14\tNum Humans: 1\tNum Robots:16\tp_robot:0.9\n",
      "45:0.14\tNum Humans: 1\tNum Robots:16\tp_robot:0.95\n",
      "46:0.15\tNum Humans: 1\tNum Robots:16\tp_robot:0.99\n",
      "47:0.15\tNum Humans: 1\tNum Robots:16\tp_robot:0.997\n",
      "48:0.15\tNum Humans: 1\tNum Robots:16\tp_robot:0.99994\n",
      "49:0.16\tNum Humans: 1\tNum Robots:17\tp_robot:0.5\n",
      "50:0.16\tNum Humans: 1\tNum Robots:17\tp_robot:0.68\n",
      "51:0.16\tNum Humans: 1\tNum Robots:17\tp_robot:0.8\n",
      "52:0.17\tNum Humans: 1\tNum Robots:17\tp_robot:0.9\n",
      "53:0.17\tNum Humans: 1\tNum Robots:17\tp_robot:0.95\n",
      "54:0.17\tNum Humans: 1\tNum Robots:17\tp_robot:0.99\n",
      "55:0.18\tNum Humans: 1\tNum Robots:17\tp_robot:0.997\n",
      "56:0.18\tNum Humans: 1\tNum Robots:17\tp_robot:0.99994\n",
      "57:0.18\tNum Humans: 1\tNum Robots:18\tp_robot:0.5\n",
      "58:0.19\tNum Humans: 1\tNum Robots:18\tp_robot:0.68\n",
      "59:0.19\tNum Humans: 1\tNum Robots:18\tp_robot:0.8\n",
      "60:0.19\tNum Humans: 1\tNum Robots:18\tp_robot:0.9\n",
      "61:0.20\tNum Humans: 1\tNum Robots:18\tp_robot:0.95\n",
      "62:0.20\tNum Humans: 1\tNum Robots:18\tp_robot:0.99\n",
      "63:0.20\tNum Humans: 1\tNum Robots:18\tp_robot:0.997\n",
      "64:0.21\tNum Humans: 1\tNum Robots:18\tp_robot:0.99994\n",
      "65:0.21\tNum Humans: 1\tNum Robots:19\tp_robot:0.5\n",
      "66:0.21\tNum Humans: 1\tNum Robots:19\tp_robot:0.68\n",
      "67:0.21\tNum Humans: 1\tNum Robots:19\tp_robot:0.8\n",
      "68:0.22\tNum Humans: 1\tNum Robots:19\tp_robot:0.9\n",
      "69:0.22\tNum Humans: 1\tNum Robots:19\tp_robot:0.95\n",
      "70:0.22\tNum Humans: 1\tNum Robots:19\tp_robot:0.99\n",
      "71:0.23\tNum Humans: 1\tNum Robots:19\tp_robot:0.997\n",
      "72:0.23\tNum Humans: 1\tNum Robots:19\tp_robot:0.99994\n",
      "73:0.23\tNum Humans: 1\tNum Robots:20\tp_robot:0.5\n"
     ]
    },
    {
     "ename": "KeyboardInterrupt",
     "evalue": "",
     "output_type": "error",
     "traceback": [
      "\u001b[1;31m---------------------------------------------------------------------------\u001b[0m",
      "\u001b[1;31mKeyboardInterrupt\u001b[0m                         Traceback (most recent call last)",
      "\u001b[1;32m<ipython-input-5-09ed3a32af04>\u001b[0m in \u001b[0;36m<module>\u001b[1;34m()\u001b[0m\n\u001b[0;32m     22\u001b[0m                 \u001b[0mi\u001b[0m\u001b[1;33m+=\u001b[0m\u001b[1;36m1\u001b[0m\u001b[1;33m\u001b[0m\u001b[0m\n\u001b[0;32m     23\u001b[0m                 \u001b[1;32mif\u001b[0m \u001b[0mi\u001b[0m\u001b[1;33m>=\u001b[0m\u001b[0mstart_on\u001b[0m\u001b[1;33m:\u001b[0m\u001b[1;33m\u001b[0m\u001b[0m\n\u001b[1;32m---> 24\u001b[1;33m                     \u001b[0mdata\u001b[0m \u001b[1;33m=\u001b[0m \u001b[0mgetPoint\u001b[0m\u001b[1;33m(\u001b[0m\u001b[0mn_robots\u001b[0m\u001b[1;33m,\u001b[0m \u001b[0mp_robot\u001b[0m\u001b[1;33m,\u001b[0m\u001b[0mn_humans\u001b[0m\u001b[1;33m,\u001b[0m \u001b[0mn_runs\u001b[0m \u001b[1;33m=\u001b[0m \u001b[1;36m10\u001b[0m\u001b[1;33m)\u001b[0m\u001b[1;33m\u001b[0m\u001b[0m\n\u001b[0m\u001b[0;32m     25\u001b[0m                     \u001b[0mrow\u001b[0m \u001b[1;33m=\u001b[0m \u001b[1;33m[\u001b[0m\u001b[0mn_humans\u001b[0m\u001b[1;33m,\u001b[0m\u001b[0mn_robots\u001b[0m\u001b[1;33m,\u001b[0m\u001b[0mp_robot\u001b[0m\u001b[1;33m,\u001b[0m\u001b[0mdata\u001b[0m\u001b[1;33m[\u001b[0m\u001b[1;36m0\u001b[0m\u001b[1;33m,\u001b[0m\u001b[1;36m0\u001b[0m\u001b[1;33m]\u001b[0m\u001b[1;33m,\u001b[0m\u001b[0mdata\u001b[0m\u001b[1;33m[\u001b[0m\u001b[1;36m0\u001b[0m\u001b[1;33m,\u001b[0m\u001b[1;36m1\u001b[0m\u001b[1;33m]\u001b[0m\u001b[1;33m,\u001b[0m\u001b[0mdata\u001b[0m\u001b[1;33m[\u001b[0m\u001b[1;36m1\u001b[0m\u001b[1;33m,\u001b[0m\u001b[1;36m0\u001b[0m\u001b[1;33m]\u001b[0m\u001b[1;33m,\u001b[0m\u001b[0mdata\u001b[0m\u001b[1;33m[\u001b[0m\u001b[1;36m1\u001b[0m\u001b[1;33m,\u001b[0m\u001b[1;36m1\u001b[0m\u001b[1;33m]\u001b[0m\u001b[1;33m,\u001b[0m\u001b[0mdata\u001b[0m\u001b[1;33m[\u001b[0m\u001b[1;36m2\u001b[0m\u001b[1;33m,\u001b[0m\u001b[1;36m0\u001b[0m\u001b[1;33m]\u001b[0m\u001b[1;33m,\u001b[0m\u001b[0mdata\u001b[0m\u001b[1;33m[\u001b[0m\u001b[1;36m2\u001b[0m\u001b[1;33m,\u001b[0m\u001b[1;36m1\u001b[0m\u001b[1;33m]\u001b[0m\u001b[1;33m,\u001b[0m\u001b[0mdata\u001b[0m\u001b[1;33m[\u001b[0m\u001b[1;36m3\u001b[0m\u001b[1;33m,\u001b[0m\u001b[1;36m0\u001b[0m\u001b[1;33m]\u001b[0m\u001b[1;33m,\u001b[0m\u001b[0mdata\u001b[0m\u001b[1;33m[\u001b[0m\u001b[1;36m3\u001b[0m\u001b[1;33m,\u001b[0m\u001b[1;36m1\u001b[0m\u001b[1;33m]\u001b[0m\u001b[1;33m]\u001b[0m\u001b[1;33m\u001b[0m\u001b[0m\n\u001b[0;32m     26\u001b[0m                     \u001b[0mwriter\u001b[0m\u001b[1;33m.\u001b[0m\u001b[0mwriterow\u001b[0m\u001b[1;33m(\u001b[0m\u001b[0mrow\u001b[0m\u001b[1;33m)\u001b[0m\u001b[1;33m\u001b[0m\u001b[0m\n",
      "\u001b[1;32m<ipython-input-3-133a6cebdd19>\u001b[0m in \u001b[0;36mgetPoint\u001b[1;34m(n_robots, p_robot, n_humans, p_human, n_runs)\u001b[0m\n\u001b[0;32m      3\u001b[0m     \u001b[0mpool\u001b[0m\u001b[1;33m=\u001b[0m\u001b[0mPool\u001b[0m\u001b[1;33m(\u001b[0m\u001b[1;36m10\u001b[0m\u001b[1;33m)\u001b[0m\u001b[1;33m\u001b[0m\u001b[0m\n\u001b[0;32m      4\u001b[0m     \u001b[0mfun\u001b[0m \u001b[1;33m=\u001b[0m \u001b[0mpartial\u001b[0m\u001b[1;33m(\u001b[0m\u001b[0msimulate\u001b[0m\u001b[1;33m,\u001b[0m\u001b[0mtime\u001b[0m\u001b[1;33m,\u001b[0m\u001b[0mn_robots\u001b[0m\u001b[1;33m,\u001b[0m\u001b[0mn_humans\u001b[0m\u001b[1;33m,\u001b[0m\u001b[0mp_robot\u001b[0m\u001b[1;33m,\u001b[0m\u001b[0mp_human\u001b[0m\u001b[1;33m)\u001b[0m\u001b[1;33m\u001b[0m\u001b[0m\n\u001b[1;32m----> 5\u001b[1;33m     \u001b[0mans\u001b[0m \u001b[1;33m=\u001b[0m \u001b[0mpool\u001b[0m\u001b[1;33m.\u001b[0m\u001b[0mmap\u001b[0m\u001b[1;33m(\u001b[0m\u001b[0mfun\u001b[0m\u001b[1;33m,\u001b[0m\u001b[1;33m[\u001b[0m\u001b[0mtime\u001b[0m\u001b[1;33m]\u001b[0m\u001b[1;33m*\u001b[0m\u001b[0mn_runs\u001b[0m\u001b[1;33m)\u001b[0m\u001b[1;33m\u001b[0m\u001b[0m\n\u001b[0m\u001b[0;32m      6\u001b[0m     \u001b[0mx\u001b[0m \u001b[1;33m=\u001b[0m \u001b[0mnp\u001b[0m\u001b[1;33m.\u001b[0m\u001b[0marray\u001b[0m\u001b[1;33m(\u001b[0m\u001b[0mans\u001b[0m\u001b[1;33m)\u001b[0m\u001b[1;33m\u001b[0m\u001b[0m\n\u001b[0;32m      7\u001b[0m     \u001b[1;31m#print(x)\u001b[0m\u001b[1;33m\u001b[0m\u001b[1;33m\u001b[0m\u001b[0m\n",
      "\u001b[1;32mC:\\Program Files (x86)\\Microsoft Visual Studio\\Shared\\Anaconda3_64\\lib\\multiprocessing\\pool.py\u001b[0m in \u001b[0;36mmap\u001b[1;34m(self, func, iterable, chunksize)\u001b[0m\n\u001b[0;32m    264\u001b[0m         \u001b[1;32min\u001b[0m \u001b[0ma\u001b[0m \u001b[0mlist\u001b[0m \u001b[0mthat\u001b[0m \u001b[1;32mis\u001b[0m \u001b[0mreturned\u001b[0m\u001b[1;33m.\u001b[0m\u001b[1;33m\u001b[0m\u001b[0m\n\u001b[0;32m    265\u001b[0m         '''\n\u001b[1;32m--> 266\u001b[1;33m         \u001b[1;32mreturn\u001b[0m \u001b[0mself\u001b[0m\u001b[1;33m.\u001b[0m\u001b[0m_map_async\u001b[0m\u001b[1;33m(\u001b[0m\u001b[0mfunc\u001b[0m\u001b[1;33m,\u001b[0m \u001b[0miterable\u001b[0m\u001b[1;33m,\u001b[0m \u001b[0mmapstar\u001b[0m\u001b[1;33m,\u001b[0m \u001b[0mchunksize\u001b[0m\u001b[1;33m)\u001b[0m\u001b[1;33m.\u001b[0m\u001b[0mget\u001b[0m\u001b[1;33m(\u001b[0m\u001b[1;33m)\u001b[0m\u001b[1;33m\u001b[0m\u001b[0m\n\u001b[0m\u001b[0;32m    267\u001b[0m \u001b[1;33m\u001b[0m\u001b[0m\n\u001b[0;32m    268\u001b[0m     \u001b[1;32mdef\u001b[0m \u001b[0mstarmap\u001b[0m\u001b[1;33m(\u001b[0m\u001b[0mself\u001b[0m\u001b[1;33m,\u001b[0m \u001b[0mfunc\u001b[0m\u001b[1;33m,\u001b[0m \u001b[0miterable\u001b[0m\u001b[1;33m,\u001b[0m \u001b[0mchunksize\u001b[0m\u001b[1;33m=\u001b[0m\u001b[1;32mNone\u001b[0m\u001b[1;33m)\u001b[0m\u001b[1;33m:\u001b[0m\u001b[1;33m\u001b[0m\u001b[0m\n",
      "\u001b[1;32mC:\\Program Files (x86)\\Microsoft Visual Studio\\Shared\\Anaconda3_64\\lib\\multiprocessing\\pool.py\u001b[0m in \u001b[0;36mget\u001b[1;34m(self, timeout)\u001b[0m\n\u001b[0;32m    636\u001b[0m \u001b[1;33m\u001b[0m\u001b[0m\n\u001b[0;32m    637\u001b[0m     \u001b[1;32mdef\u001b[0m \u001b[0mget\u001b[0m\u001b[1;33m(\u001b[0m\u001b[0mself\u001b[0m\u001b[1;33m,\u001b[0m \u001b[0mtimeout\u001b[0m\u001b[1;33m=\u001b[0m\u001b[1;32mNone\u001b[0m\u001b[1;33m)\u001b[0m\u001b[1;33m:\u001b[0m\u001b[1;33m\u001b[0m\u001b[0m\n\u001b[1;32m--> 638\u001b[1;33m         \u001b[0mself\u001b[0m\u001b[1;33m.\u001b[0m\u001b[0mwait\u001b[0m\u001b[1;33m(\u001b[0m\u001b[0mtimeout\u001b[0m\u001b[1;33m)\u001b[0m\u001b[1;33m\u001b[0m\u001b[0m\n\u001b[0m\u001b[0;32m    639\u001b[0m         \u001b[1;32mif\u001b[0m \u001b[1;32mnot\u001b[0m \u001b[0mself\u001b[0m\u001b[1;33m.\u001b[0m\u001b[0mready\u001b[0m\u001b[1;33m(\u001b[0m\u001b[1;33m)\u001b[0m\u001b[1;33m:\u001b[0m\u001b[1;33m\u001b[0m\u001b[0m\n\u001b[0;32m    640\u001b[0m             \u001b[1;32mraise\u001b[0m \u001b[0mTimeoutError\u001b[0m\u001b[1;33m\u001b[0m\u001b[0m\n",
      "\u001b[1;32mC:\\Program Files (x86)\\Microsoft Visual Studio\\Shared\\Anaconda3_64\\lib\\multiprocessing\\pool.py\u001b[0m in \u001b[0;36mwait\u001b[1;34m(self, timeout)\u001b[0m\n\u001b[0;32m    633\u001b[0m \u001b[1;33m\u001b[0m\u001b[0m\n\u001b[0;32m    634\u001b[0m     \u001b[1;32mdef\u001b[0m \u001b[0mwait\u001b[0m\u001b[1;33m(\u001b[0m\u001b[0mself\u001b[0m\u001b[1;33m,\u001b[0m \u001b[0mtimeout\u001b[0m\u001b[1;33m=\u001b[0m\u001b[1;32mNone\u001b[0m\u001b[1;33m)\u001b[0m\u001b[1;33m:\u001b[0m\u001b[1;33m\u001b[0m\u001b[0m\n\u001b[1;32m--> 635\u001b[1;33m         \u001b[0mself\u001b[0m\u001b[1;33m.\u001b[0m\u001b[0m_event\u001b[0m\u001b[1;33m.\u001b[0m\u001b[0mwait\u001b[0m\u001b[1;33m(\u001b[0m\u001b[0mtimeout\u001b[0m\u001b[1;33m)\u001b[0m\u001b[1;33m\u001b[0m\u001b[0m\n\u001b[0m\u001b[0;32m    636\u001b[0m \u001b[1;33m\u001b[0m\u001b[0m\n\u001b[0;32m    637\u001b[0m     \u001b[1;32mdef\u001b[0m \u001b[0mget\u001b[0m\u001b[1;33m(\u001b[0m\u001b[0mself\u001b[0m\u001b[1;33m,\u001b[0m \u001b[0mtimeout\u001b[0m\u001b[1;33m=\u001b[0m\u001b[1;32mNone\u001b[0m\u001b[1;33m)\u001b[0m\u001b[1;33m:\u001b[0m\u001b[1;33m\u001b[0m\u001b[0m\n",
      "\u001b[1;32mC:\\Program Files (x86)\\Microsoft Visual Studio\\Shared\\Anaconda3_64\\lib\\threading.py\u001b[0m in \u001b[0;36mwait\u001b[1;34m(self, timeout)\u001b[0m\n\u001b[0;32m    549\u001b[0m             \u001b[0msignaled\u001b[0m \u001b[1;33m=\u001b[0m \u001b[0mself\u001b[0m\u001b[1;33m.\u001b[0m\u001b[0m_flag\u001b[0m\u001b[1;33m\u001b[0m\u001b[0m\n\u001b[0;32m    550\u001b[0m             \u001b[1;32mif\u001b[0m \u001b[1;32mnot\u001b[0m \u001b[0msignaled\u001b[0m\u001b[1;33m:\u001b[0m\u001b[1;33m\u001b[0m\u001b[0m\n\u001b[1;32m--> 551\u001b[1;33m                 \u001b[0msignaled\u001b[0m \u001b[1;33m=\u001b[0m \u001b[0mself\u001b[0m\u001b[1;33m.\u001b[0m\u001b[0m_cond\u001b[0m\u001b[1;33m.\u001b[0m\u001b[0mwait\u001b[0m\u001b[1;33m(\u001b[0m\u001b[0mtimeout\u001b[0m\u001b[1;33m)\u001b[0m\u001b[1;33m\u001b[0m\u001b[0m\n\u001b[0m\u001b[0;32m    552\u001b[0m             \u001b[1;32mreturn\u001b[0m \u001b[0msignaled\u001b[0m\u001b[1;33m\u001b[0m\u001b[0m\n\u001b[0;32m    553\u001b[0m \u001b[1;33m\u001b[0m\u001b[0m\n",
      "\u001b[1;32mC:\\Program Files (x86)\\Microsoft Visual Studio\\Shared\\Anaconda3_64\\lib\\threading.py\u001b[0m in \u001b[0;36mwait\u001b[1;34m(self, timeout)\u001b[0m\n\u001b[0;32m    293\u001b[0m         \u001b[1;32mtry\u001b[0m\u001b[1;33m:\u001b[0m    \u001b[1;31m# restore state no matter what (e.g., KeyboardInterrupt)\u001b[0m\u001b[1;33m\u001b[0m\u001b[0m\n\u001b[0;32m    294\u001b[0m             \u001b[1;32mif\u001b[0m \u001b[0mtimeout\u001b[0m \u001b[1;32mis\u001b[0m \u001b[1;32mNone\u001b[0m\u001b[1;33m:\u001b[0m\u001b[1;33m\u001b[0m\u001b[0m\n\u001b[1;32m--> 295\u001b[1;33m                 \u001b[0mwaiter\u001b[0m\u001b[1;33m.\u001b[0m\u001b[0macquire\u001b[0m\u001b[1;33m(\u001b[0m\u001b[1;33m)\u001b[0m\u001b[1;33m\u001b[0m\u001b[0m\n\u001b[0m\u001b[0;32m    296\u001b[0m                 \u001b[0mgotit\u001b[0m \u001b[1;33m=\u001b[0m \u001b[1;32mTrue\u001b[0m\u001b[1;33m\u001b[0m\u001b[0m\n\u001b[0;32m    297\u001b[0m             \u001b[1;32melse\u001b[0m\u001b[1;33m:\u001b[0m\u001b[1;33m\u001b[0m\u001b[0m\n",
      "\u001b[1;31mKeyboardInterrupt\u001b[0m: "
     ]
    }
   ],
   "source": [
    "\n",
    "i=0\n",
    "start_on=0\n",
    "run=6\n",
    "with open(f'data{run}.csv',mode='w',newline='') as csv_file:\n",
    "    fieldnames = ['n_humans','n_robots','p_robot','mean Human Down',' stdev human down','mean robot Down',' stdev robot down','Success rate','stdev successrate','n_total','stdev n_total']\n",
    "    writer = csv.writer(csv_file,delimiter=',')\n",
    "    writer.writerow(fieldnames)\n",
    "    #n_humans = 1\n",
    "    #n_robots = 1#3\n",
    "    #p_robot  = 0.6\n",
    "    ns_of_robots = range(20,50)\n",
    "    ns_of_humans = [1]#range(1,4)\n",
    "        #[0.6,1   ,1.2,1.6,1.96,2.58,3    ,4]\n",
    "    ps = [0.5,0.68,0.8,0.9,0.95,0.99,0.997,0.99994]\n",
    "    \n",
    "    to_run = len(ns_of_robots)*len(ns_of_humans)*len(ps) \n",
    "    \n",
    "    for n_robots in ns_of_robots:\n",
    "        for n_humans in ns_of_humans:\n",
    "            for p_robot in ps:\n",
    "                i+=1\n",
    "                if i>=start_on:\n",
    "                    data = getPoint(n_robots, p_robot,n_humans, n_runs = 10)\n",
    "                    row = [n_humans,n_robots,p_robot,data[0,0],data[0,1],data[1,0],data[1,1],data[2,0],data[2,1],data[3,0],data[3,1]]\n",
    "                    writer.writerow(row)\n",
    "                    p = float(i/to_run)\n",
    "                    print(f'{i}:'+\"{0:.2f}\".format(p)+f'\\tNum Humans: {n_humans}\\tNum Robots:{n_robots}\\tp_robot:{p_robot}')\n",
    "\n",
    "    "
   ]
  },
  {
   "cell_type": "code",
   "execution_count": null,
   "metadata": {
    "collapsed": true
   },
   "outputs": [],
   "source": []
  }
 ],
 "metadata": {
  "kernelspec": {
   "display_name": "Python 3",
   "language": "python",
   "name": "python3"
  },
  "language_info": {
   "codemirror_mode": {
    "name": "ipython",
    "version": 3
   },
   "file_extension": ".py",
   "mimetype": "text/x-python",
   "name": "python",
   "nbconvert_exporter": "python",
   "pygments_lexer": "ipython3",
   "version": "3.6.2"
  }
 },
 "nbformat": 4,
 "nbformat_minor": 2
}
