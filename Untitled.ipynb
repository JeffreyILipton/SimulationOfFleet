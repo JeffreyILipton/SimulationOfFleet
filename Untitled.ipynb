{
 "cells": [
  {
   "cell_type": "code",
   "execution_count": 1,
   "metadata": {
    "collapsed": true
   },
   "outputs": [],
   "source": [
    "import numpy as np\n",
    "from functools import *\n",
    "from itertools import *\n",
    "from operator import *\n",
    "from random import *\n",
    "from multiprocessing import Pool\n",
    "from defs import *"
   ]
  },
  {
   "cell_type": "markdown",
   "metadata": {
    "collapsed": true
   },
   "source": [
    "https://stackoverflow.com/questions/20548628/how-to-do-parallel-programming-in-python\n",
    "\n",
    "https://github.com/ResearchComputing/jupyter-at-rc/wiki/Parallel-Programming-with-Jupyter-Notebooks\n",
    "\n",
    "https://stackoverflow.com/questions/47313732/jupyter-notebook-never-finishes-processing-using-multiprocessing-python-3/47374811#47374811"
   ]
  },
  {
   "cell_type": "code",
   "execution_count": 9,
   "metadata": {},
   "outputs": [
    {
     "name": "stdout",
     "output_type": "stream",
     "text": [
      "[0.0, 0.0001, 0.0004, 0.0009, 0.0016, 0.0025000000000000005, 0.0036, 0.004900000000000001, 0.0064, 0.0081, 0.010000000000000002, 0.0121, 0.0144, 0.016900000000000002, 0.019600000000000003, 0.0225, 0.0256, 0.028900000000000006, 0.0324, 0.0361, 0.04000000000000001, 0.04409999999999999, 0.0484, 0.0529, 0.0576, 0.0625, 0.06760000000000001, 0.0729, 0.07840000000000001, 0.0841, 0.09, 0.0961, 0.1024, 0.10890000000000001, 0.11560000000000002, 0.12249999999999998, 0.1296, 0.1369, 0.1444, 0.1521, 0.16000000000000003, 0.16809999999999997, 0.17639999999999997, 0.18489999999999998, 0.1936, 0.2025, 0.2116, 0.22089999999999999, 0.2304, 0.24009999999999998, 0.25, 0.2601, 0.27040000000000003, 0.28090000000000004, 0.2916, 0.30250000000000005, 0.31360000000000005, 0.32489999999999997, 0.3364, 0.34809999999999997, 0.36, 0.3721, 0.3844, 0.39690000000000003, 0.4096, 0.42250000000000004, 0.43560000000000004, 0.4489000000000001, 0.4624000000000001, 0.4760999999999999, 0.48999999999999994, 0.5041, 0.5184, 0.5328999999999999, 0.5476, 0.5625, 0.5776, 0.5929, 0.6084, 0.6241000000000001, 0.6400000000000001, 0.6561000000000001, 0.6723999999999999, 0.6889, 0.7055999999999999, 0.7224999999999999, 0.7395999999999999, 0.7569, 0.7744, 0.7921, 0.81, 0.8281000000000001, 0.8464, 0.8649000000000001, 0.8835999999999999, 0.9025, 0.9216, 0.9409, 0.9603999999999999, 0.9801]\n"
     ]
    }
   ],
   "source": [
    "y = [f/100.00 for f in range(0,100)]\n",
    "pool=Pool() \n",
    "print pool.map(g,y)"
   ]
  },
  {
   "cell_type": "code",
   "execution_count": 8,
   "metadata": {},
   "outputs": [
    {
     "data": {
      "text/plain": [
       "[0,\n",
       " 1,\n",
       " 2,\n",
       " 3,\n",
       " 4,\n",
       " 5,\n",
       " 6,\n",
       " 7,\n",
       " 8,\n",
       " 9,\n",
       " 10,\n",
       " 11,\n",
       " 12,\n",
       " 13,\n",
       " 14,\n",
       " 15,\n",
       " 16,\n",
       " 17,\n",
       " 18,\n",
       " 19,\n",
       " 20,\n",
       " 21,\n",
       " 22,\n",
       " 23,\n",
       " 24,\n",
       " 25,\n",
       " 26,\n",
       " 27,\n",
       " 28,\n",
       " 29,\n",
       " 30,\n",
       " 31,\n",
       " 32,\n",
       " 33,\n",
       " 34,\n",
       " 35,\n",
       " 36,\n",
       " 37,\n",
       " 38,\n",
       " 39,\n",
       " 40,\n",
       " 41,\n",
       " 42,\n",
       " 43,\n",
       " 44,\n",
       " 45,\n",
       " 46,\n",
       " 47,\n",
       " 48,\n",
       " 49,\n",
       " 50,\n",
       " 51,\n",
       " 52,\n",
       " 53,\n",
       " 54,\n",
       " 55,\n",
       " 56,\n",
       " 57,\n",
       " 58,\n",
       " 59,\n",
       " 60,\n",
       " 61,\n",
       " 62,\n",
       " 63,\n",
       " 64,\n",
       " 65,\n",
       " 66,\n",
       " 67,\n",
       " 68,\n",
       " 69,\n",
       " 70,\n",
       " 71,\n",
       " 72,\n",
       " 73,\n",
       " 74,\n",
       " 75,\n",
       " 76,\n",
       " 77,\n",
       " 78,\n",
       " 79,\n",
       " 80,\n",
       " 81,\n",
       " 82,\n",
       " 83,\n",
       " 84,\n",
       " 85,\n",
       " 86,\n",
       " 87,\n",
       " 88,\n",
       " 89,\n",
       " 90,\n",
       " 91,\n",
       " 92,\n",
       " 93,\n",
       " 94,\n",
       " 95,\n",
       " 96,\n",
       " 97,\n",
       " 98,\n",
       " 99]"
      ]
     },
     "execution_count": 8,
     "metadata": {},
     "output_type": "execute_result"
    }
   ],
   "source": [
    "range(0,100)"
   ]
  },
  {
   "cell_type": "code",
   "execution_count": null,
   "metadata": {
    "collapsed": true
   },
   "outputs": [],
   "source": []
  }
 ],
 "metadata": {
  "kernelspec": {
   "display_name": "Python 2",
   "language": "python",
   "name": "python2"
  },
  "language_info": {
   "codemirror_mode": {
    "name": "ipython",
    "version": 2
   },
   "file_extension": ".py",
   "mimetype": "text/x-python",
   "name": "python",
   "nbconvert_exporter": "python",
   "pygments_lexer": "ipython2",
   "version": "2.7.13"
  }
 },
 "nbformat": 4,
 "nbformat_minor": 2
}
